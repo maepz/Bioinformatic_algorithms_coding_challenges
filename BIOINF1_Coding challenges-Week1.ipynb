{
 "cells": [
  {
   "cell_type": "code",
   "execution_count": 3,
   "metadata": {
    "collapsed": false
   },
   "outputs": [
    {
     "name": "stdout",
     "output_type": "stream",
     "text": [
      "['AGTGCTTGTGAACTTGTGAAGCCCCCTTGTGAAAACTTGTGAATTGTGAATTGTGAATGTTGTGAAGTTGTGAAGTTGTGAACCTTTGTGAATTTGTGAATTGTGAAAAGACTGTTGTGAAAAGGTTGTGAATTGTGAATTGTGAATATTTTGTGAATTGTGAAGATTGTGAATTGTGAATTCCTTGTGAAGGGACCTGTTTGTGAAAGCGAGTTGTGAATTGTGAATATTGTGAATTGTGAACTGAATTGTGAATTGTGAAGACAATTGTGAAATGGTTGTGAATTGTGAATTGTGAACGCGTTGTGAATCTTGTGAAATTGTGAATTGTGAAATCATTCCCATAGAAGAACCTAATTGTGAATTGTGAAATCGCGGGATCGCAGTTGTGAATTGTGAATTGTGAAATTGTGAAAAGCAGTTGTGAATATTGTGAATTGTGAATTGTGAAGCCGATGTTGTGAAGTTTGTGAATTGTGAAGCTTGTGAATCATTGTGAATGCTTGTGAATTGTGAATGCTTGTGAACGTTGTGAAAATTTGTGAAGGTTGTGAAACACTTGTGAACACAGTTGTGAATTGTGAAACCCGACTTGTGAATTGTGAAAGTTGTGAAATACATTGTGAAGTTGTGAATTGTGAATTTGTGAATTGTGAACAGTTACATTGTGAACTTGTGAATTGTGAACTCGTTTGTTGTGAACTTGTGAAACTTGTGAAACCTTGTGAATGATTGTGAATTGTGAAAGTTGTGAAGATTTGTGAACTTTGTGAATTGTGAAAGCTATTGTGAATTGTGAACGTTGTGAATTGTGAATTTGTGAAGCAAGTCAGTTGTGAATGAATTGTGAACCTTTGCTTTGTGAATTTTGTGAATGCAAGGCCTTTTGTGAATGCTTGTGAAATTGTGAATCTTTGTGAATTGTTGTGAACGTTGTGAATTGTGAA', 'TTGTGAATT']\n",
      "36\n",
      "None\n",
      "36\n"
     ]
    }
   ],
   "source": [
    "'''Input: Strings Text and Pattern.\n",
    "     Output: Count(Text, Pattern).\n",
    "\n",
    "    PatternCount(Text, Pattern)\n",
    "        count ← 0\n",
    "        for i ← 0 to |Text| − |Pattern|\n",
    "            if Text(i, |Pattern|) = Pattern\n",
    "                count ← count + 1\n",
    "        return count'''\n",
    "\n",
    "'''import sys # you must import \"sys\" to read from STDIN'''\n",
    "f= open(\"../../Downloads/rosalind_ba1a.txt\", \"r\")\n",
    "lines = f.read().splitlines() # read in the input from STDIN\n",
    "print lines\n",
    "t=lines[0]\n",
    "word=lines[1]\n",
    "count=0\n",
    "\n",
    "for n in range(0,(len(t)-len(word)+1)):\n",
    "            if t[n:n+len(word)]== word:\n",
    "                count += 1\n",
    "print(count)  \n",
    "\n",
    "from Bioinf_functions import PatternCount\n",
    "print PatternCount(t,word)\n",
    "         "
   ]
  },
  {
   "cell_type": "code",
   "execution_count": 53,
   "metadata": {
    "collapsed": false
   },
   "outputs": [
    {
     "name": "stdout",
     "output_type": "stream",
     "text": [
      "{'TGAT': 1, 'ATGC': 1, 'GTCG': 1, 'AGAG': 1, 'ACGT': 1, 'GTTG': 1, 'CATG': 3, 'TGTC': 1, 'TCGC': 1, 'CGTT': 1, 'GAGC': 1, 'ATGA': 2, 'TGAG': 1, 'TGCA': 2, 'GAGA': 1, 'ATGT': 1, 'GCAT': 3, 'TTGC': 1, 'GATG': 1, 'AGCT': 1, 'CGCA': 1}\n"
     ]
    }
   ],
   "source": [
    "'''CODE CHALLENGE: Solve the Frequent Words Problem.\n",
    "     Input: A string Text and an integer k.\n",
    "     Output: All most frequent k-mers in Text.\n",
    "\n",
    "Return to Main Text\n",
    "\n",
    "Sample Input:\n",
    "ACGTTGCATGTCGCATGATGCATGAGAGCT\n",
    "4\n",
    "Sample Output:\n",
    "CATG GCAT'''\n",
    "'''f= open (\"/Users/juniper_admin/Desktop/dataset_2_9.txt\", \"r\")\n",
    "lines = f.read().splitlines() # read in the input from STDIN\n",
    "t=lines[0]\n",
    "k=int(lines[1])\n",
    "'''\n",
    "t='ACGTTGCATGTCGCATGATGCATGAGAGCT'\n",
    "k=4\n",
    "# Etape1: find all kmers\n",
    "kmer_list=list()\n",
    "\n",
    "for n in range(0,(len(t)-(k-1))):\n",
    "    word=t[n:n+k]\n",
    "    kmer_list.append(word)    \n",
    "#print kmer_list\n",
    "# Etape2: count kmer in string and output the most commons \n",
    "\n",
    "d ={}\n",
    "most_c=list()\n",
    "for i in kmer_list:\n",
    "    if i in d:\n",
    "        d[i] += 1\n",
    "    else:\n",
    "        d[i] = 1\n",
    "print d        \n"
   ]
  },
  {
   "cell_type": "code",
   "execution_count": 4,
   "metadata": {
    "collapsed": false
   },
   "outputs": [
    {
     "name": "stdout",
     "output_type": "stream",
     "text": [
      "CCCACTGTATATCA CTCCCACTGTATAT GAGCTCCCACTGTA TCCCACTGTATATC CCACTGTATATCAC AGCTCCCACTGTAT GCTCCCACTGTATA\n"
     ]
    }
   ],
   "source": [
    "'''CODE CHALLENGE: Solve the Frequent Words Problem.\n",
    "     Input: A string Text and an integer k.\n",
    "     Output: All most frequent k-mers in Text.\n",
    "\n",
    "Return to Main Text\n",
    "\n",
    "Sample Input:\n",
    "ACGTTGCATGTCGCATGATGCATGAGAGCT\n",
    "4\n",
    "Sample Output:\n",
    "CATG GCAT'''\n",
    "f= open(\"../../Downloads/rosalind_ba1b.txt\", \"r\")\n",
    "lines = f.read().splitlines() # read in the input from STDIN\n",
    "\n",
    "t=lines[0]\n",
    "k=int(lines[1])\n",
    "\n",
    "FrequentPattern=list()\n",
    "d={}\n",
    "for n in range(0,(len(t)-(k-1))):\n",
    "    word=t[n:n+k]\n",
    "    if word in d:\n",
    "        d[word] += 1\n",
    "    else:\n",
    "        d[word] = 1     \n",
    "maxCount= max(d.values())\n",
    "maxCount\n",
    "\n",
    "for n in range(0,(len(t)-(k-1))):\n",
    "    word=t[n:n+k]\n",
    "    if d[word] == maxCount:\n",
    "        FrequentPattern.append(word) \n",
    "results=set(FrequentPattern)   \n",
    "result=' '.join(map(str,results)) \n",
    "print result    "
   ]
  },
  {
   "cell_type": "code",
   "execution_count": 8,
   "metadata": {
    "collapsed": false
   },
   "outputs": [
    {
     "name": "stdout",
     "output_type": "stream",
     "text": [
      "\n",
      "GCTTTTCGTGTGCCACGTGCTGGGTTTCCTCACTTGCAGGTTAACAGCCGGCACTATTACCGTGCGCAGAACTATACATTTCCCTTTCAAGATCACTGTTCGCTAACAGCCTAATCAGCTTTAGCAGACCGTTACTGTTCGTTCTACAGTGACTGCGATGCGAGGAACACATAAGTGGTCAGCCCCTAGGCATTCGAACTAAATTCTCACATACCCTACGGAGCCAACGCGTGCATCCGCCTCGCCCTATTCCACAAGCACACCTCGAGTCGATCGGCTGTTATTCAGTACTCACTTCATGCCGCCTTTGTGATATTCGCGCCTTATCGACGCCCGGTCATGCCGTAGGCTCAAATGCGAGCTGCCCGCGCGGTGAAAGTCACCACTGTACCCGCGAGGCCTAGGCGGCGGTGCTTACCTGTCGGCTGCCTATCGCAAGTGGTAGGATGATGATATACTTATATCGTGCCCTACTGAAGATTTGAAAGGTGGCACTCTCCGAGAGTCAGAAAAGAAAGTTGCACTCGACTGCAAAACACCCCGGGGTAATGCGCCCGCGCTTAGTCTTCTCCTATTCCATCAGCATAAGCTTGTAATGAGACAGGGGACTGTAGAGTGGAATTGGGGAAACGGCAGTTATTGCATCAGTTACACGTCCGATACTCATCTATCTACAATATCAGCCTGTTAGTTTCGGGTTCGGCGACCGATGCCGTCGAGCTTTGTATCAAGAGACAGTTACTTATGGAAGCTCCCTGCAGGTTCTACCCATTATCAACTTTTGAGGATCAAACGCCAGTAGGTGGCGTGGATCCACCATCGTAGGAATTTGCCGCCACAGAAATGTGCTTATATCAAGACGATATCCACAGGGTAGTGGGTCGACATCACAACTGGCTACGGCCGTAAGGCAATTCGTAGTCAAGTGCTGGACGAGCCTAACTTATCCCATTCTGAAACCAGACAGCTAAAACAGTTGGATTCAGCGGCAGTTTTCGAAGGCAAATGCCTGAACGTTAGGTGACTCTCCGATCGTCGCTGACTTACTCCATTGCAGAGTTGTATTTGATCTTCGGAGAAAACCTCAGGGTTTTGGTACCACGAGCTAGTCTTTACCTAGTGCGAACTTTCTTGCTGCGCGGGAATATCTGATGCCGGGCAACTAACTCCGTCAGTGTGACCCCAGCTCAGTGCGAGGAGTACGCGCAACATTACGTCCTTTCTGTTTAATTTTACGCAGTGTACCATATTAGTCGACCCTAGCTTAATCCGGATTTCGAGTTCGTCAGGACCTGCCGTTCGGTGATAAGTAGTTCGATCATCGCCCTGTTAGTCGTTCCACCACAGGCGGAAGTCTTGATGACGTAGGGACGAGGATGAGCTCCGACACCGCGTAGCGACACTGAGCAGGGCTTTTCTCTGAGGGGTGGTTTAAAAATAAGCTCTAGATGTACCCATGTAGGAAGAGTCGACCCTCGTCCCCTGTAGGTAGGATGGCTTAAACTGATAGGATAGGACTCTATAAGGAGCTTCTTATATATCCGGCATACCAAAGGAACGGTAATGAGTGTTTTTGGCGGAATACGGGACTCAGCTAGGCGATGAACCACTGTGTAAGCCCTGCCTACCCCGCCCGATAACTTCGATATGGTGCCCTAGTTCGGTAAGCGGGATGTCTTACACATATGCAACGGCAATGCCCTCGATTGAAGGGAGATAACTTAATAAAAGGTTCTCCGACTCATAGCAAGACCTGCCATACGAACTAGCTCGTTTCGGGCTTTCCCTTTCCGTGTCGGTTTCAGGACACGGCTATGGTAGGTCGTTTTCAACCTCACAATAGGTATTACTGATTACCCATGACCTGTGAGTCTACCCCCGTGGGCGCCGGGCCGCCGTAGCTAGCACAAGACGACCAAGTCGTTTTAGGAAACTCAGATAGGGTGACGGAGTCGTGAAGTTTTTTCCGAAGGTGAATCGGCACCGTCGGCTAGTGGCATATCTCTGGTCTCCACCATGAGTCCATAAGCAGATAGCGCACGCCGGAGCAGGCTCCAAGGATCGTCGTGAGGGATCTCTGTAATGGGAGGAAAAGAGCGTGCCCTCAGAGCCCAGCCAAATCGTCCGAGCTGTTAATTATGGCAGTTCGCAAGTGAAGCAAACCGTTCATAGTCCCTGTTAATACAATTCGTTCCGGAATTTTCTAGGACGCGCCCAACTGCCAAGACGCCCCCGAGTCGCTAGTTCTTAAAAAGGTAGCTAAGGTTGAAGATGTGCAAGCATGGCTGGAGGTCCCACGGGGGTTGGGTGCCTCTGAGTAGTGAGTCTGAGCTACAGCAGGTATAATGGTAAAAGTGTACTGCGGTAAGAATGGGCACCGGCAGACAATGCAGTGCTCAATACACGTGTCGAGCTACAAGACTACCGTCCTATCCATGAGTGTCCAGACATACTTGATTGTGATCGCCAGTCGCAGCACCAGCCGAGTAGAGTAGCAGCTTCAGCAATGAACGGGCTTTTGCGCGCGTTAACACGGATTCGGCCCCAAAGCTCATGGCAATCAGCGCGGCGATCTGGCTTCACTTTGTAAAGGAAAGGCCCACAGTAGCTCCTCTATCGACCTCAGCGAGCGAGCGTCGCTCGCAAAAAGTTAATAGAGCAGCAACGTATGGCTTTTGCAGTGTAATCTATAACTAAGCGGTCCTGTTAACACGTGGGGCTGAGACCCCCCTGATTCTTCCGCGCCAATTGCGCAGGAATGTCGCGTTAATAGAACAAAACCCCTTCATCTAATATATGCGAGAGGACACATATATAAAACGACTGGGATGTGTTACAACAAATATTCCGTCGTTTTACTTAGGGAGAGGACCCCGCAATGGATTCAGGCGCTCACATCGATCCTCCATGATTATGGCCTAAACTGTTTTGTTATTGCAGCGTAAGGATTGGTCGAGGCCTTCGCTATCATTTTGGATAGGTCGACCTTGCATATGGTCGCTATGTGACTTTCATTCTAGGGAGTGACAAAAATTAGGGAGGCAGGAGCCGCAGAAATACGAGGTGGATTCCTTAATCATAACGCCCAGCACGAACACGAGAGTCCGGAACGGTACCAGTGTTCTTTGGAACATGTCGGTCACCGGTCAACAGCCCATCTCTTGCTTGCATCTTACACAGCAGCTGTGAGTGGTCGTAATCCGCAAGAACACGCATCTAGTCGGGTATCCCCGGTTGTAACTCATATGGCTGACCCACCACGTCATAACTATGATCTCGCCGTCTGTTGTGGCGAGGATGGCTATAGCGTCGTGAAGTTCCCGAAGTGTACGTCCATATCGGGGCCATCACACCATCCCAACAACCTCTCATTCAGGCATAGGAGGTCCCGGACTACGCCGTTCTGCAAGACGAGAACACTCACTGCAGCCCAGCGAGGGATTGTACTCACTTAGATGCGTTACCGTCGGGTTTGCTGCCGCGCTCTCCGTTGACCTAAGTCTTCTCTAAAACCGATCATCTCCGGCCTAGAGATGCATTAGATAAGACAAGTGGTCACCCGTACTCTGAACGGTACTATTTGAGGTATAGCGATTCTCGCTTCCGGATTGCAATTACTAGTATCGAACTTCTCACTGGCGGGCATTATGGTGGGACCAACCTCCTTCATGGGTGCTAGGTTATTAACGTGAGGCGTCTGGCTCTGCCTTTCCACCACTTGTCAACGTGGCTCTTGGATGAATCTTAACAGAAATGTGCACCGTTGCGTCAATAGAGCGACCACAATCACTTGTTCTAGTATTACGTGTAATATACATACAAGGTATGCATGGGAAGGCCTCACATGTGACAACAACTCACCTAATGGCTGCTAACGCACCGCACACAGCCAGGCACCTCCTTGCTCTAACATAGTAAGTCAGAATGTTGGACGGGTGCCTGTCGTGTAAGTCTCCATAATGGTACGGATTACACAATCCCCAGAGGTGTCGGTAACGCCTCTGTATGACCCCGAATGCCGAATGCCCGGCTGTGCGGATGCAATAAACTCCTATGTGGATTCTAAGTATTATTTAGATGCATACACTTTCGAAAGCGTTGTCCGAAACCTTTTGGTCTCCAAGTTTGGTGGGGTCCAGTCGCGAGGATCTAGTGTTTATTCTTTATGCGTACACAAACCTAGCGCGCTATTCCTGAGAGGGTGGGACATTTCTTATGGGACGGTCCGAACCGTCCTAGCGAAGCCTCGTTTATATGTAGAGGCTGCACGCCAAGTTAGCGACGTATTGATAAACACTCCAGTCAAAAGGATTGTTAATCACCTTTTGCCGAAGTTAGGAGGTAAAGGTCCACCTAGTAGTATGGCCGTGTGCCGAATGAGAGGTTCCGGGCTGAAGTTAGTGAATACGAGTGCAGGCTGTGCCTCTGGCGGAGCAGTCGGGTGTCTGACCGAGTCCACCATCTAAGAACGTACTTTAGTAGCCGCGAATGTGAATGGATTTCCCGATAATAGATGTGTGTAAAAGAGGACGGCGACTCAACTCTCCATTAAACCACCTGGGGTATAAACTACTATTGTGGATGCTAAATATCCACTAGCGTTCCTTGGCTGTGTTTTGGGGCTTGGGCCAGTCGATTAATTCACTGTTTCCAACCCATAGAGAGTGGTTGTGTAGTTTCGACTGTTGTGTCTAGTGATTCTTTGATCTTGTCCTTCAAGGATGGATCGGAAGAATAATAAGTAGGCAGGCCTGGTGAAGCTTCAAACACCTCGGTCAGGATAGGCGCCGTACTCTATATATGAAGGCGGCTGTCTATTTAAAAAGCGTTCTTTTACTTATAAGTCCGAACGTCTCCGACCCGACAAAGATAAGCAAAGGCTCACACCGATGTTACCCCTGCCAGTCACGGAAATAAGCGGTGCTACGCATTGCTTCACATGCAGCTCAAACGAACGTCTGAATGACCAGCTTGCAAGTACAACTGCCGGTCCTCACGCCCGTGCTAGTGACTCCAGATGGCCTCCCGGTCACGTCCCTGTGCAGATGCTCTGTGCTCTGCTCTCCTCGTATTGCACGTTGAAATTAGGGCAATCCCTCTTGGACCTACCGTTCTAATCTCGCCTGTACACTGGACGACGAGAGCCCTCGTTTGGAGTAAAGGACTCTGTCTATCATGCCCTGTGTGGACCCAAATTGATCCTAGGATAAGGGAACGCCCTTACGCAATACGCCTAGTACGGTTAGCACGGCCGCAAGAAACAGGAGTCAATGGAGATCTCATCTTAGAGTCCTGGCCTGTACACTCGGGGGCACAGCCTCTGTGCTCAGCCCTTAAACCTATAATTTACATCGTGTCGGCTTCACGACACTGCCATGATTACAAGACTTGAAGGTGTCTCCCCCTCGACCCGGCTCGGCTCGGGGTTGTTGTTGGGTGCCAAATTAAAGAGCGGCGGATCTCCGACGAGGGACCGGGGGTGTAAACAACACTCCGGGCAGAACGTGGCTGATGGACTTAAGTTGGGGGTGCAACGGTGTCCACATTACCTGCTGCGCGTGTATGGGATAGGGGAGTGTTAGAGCTGCAACCCTTCTGCCTGATGACGTGTTGTTTATGACTCCAAATAGAGGCAACTAGGTTTAATTCTTCTTTGCGCGCCGTTTGAACCTAGGACAGTTATTGACAGTATAGGGTGAGTCGTTCAAGCGATTGGTGGAGAATCATCCTTTCTTATCCTAGCACAATTTAATCCGTTTCGATCTCCCTCCGCACACGTCACGTAGTAGTGGACGTTATGATGCTGGCCGAAGAAGTTGCTCCATTCCTTGCACTAGCAGGCACTAGTTACCTTAAGAGCATGCATAACAAAGGAAGAGTTATCGCTACAATCGCATTATAGTATTCGTATGGTTTTGCTGTGATAATACACCCTTTCACTGGTGCACGACCATACATGAACGTAGCCGTCAACAGCTCGCATGTCGATGCTCCAAGCTTCCCCTTACGACACCGCCTAAGAAGCAGTTGATAAGATGTATAACTCCCGTATCTTCAGTTTTACTCTGTCGAGTAAGAAGTGTCAGTCTTCCGCCTGGAAGTTCATCAGTGGCTTTTATCAGGATATACGGCAGAAACTAGATGTGCGTACATGTACTGTAACTCAGAGGGGTCTTCTACCTCAACGTAAACCGGCGCCAGTTAGCTACCTTCAAGATGGTTTAATGAGCAGCTGTCTTATATTTGGCGCGTACAACGGTCGCAGGCAACGAGTAAGAGCGCATGTAGTGGAATAGGCGTGTCGTCCCGCTTCCCCGCTTTTAGCAAGTGATCGAGGCTGAATACGAGGTGTTCCACATCGTATCCTGACGCTACCATATCGGCAATCTAAAGAAATTTGTCTCCGTTGAGCTCGGCGTTGTACACGTTCCAAGATGTAGTCTATTGGACTGAAGACTTTAGTAGCACCCAGGGTCTAGTCAGACGTGGCACGTGCTGCATGCGACTCTCAGGTTTTTGATCGGAGCCATCCAGTAAAGGGAAAACGCACCTGCGCGACCACCTTGAGGTTCGCAGTATTTGAGTGCCTTTCATAGCCTTTCATTTCGATTGTAAAGGCATTGGGGCCGTTCACCTTTGCATACGGACGTCTGATGGCTAATATACTGAATCCTAAGAGCCCTAGGAACACAAACCTGGATCCAACTTATGGAGGCTGCTAATCGTTCGGGGCGACCCACGCCCGAGGTTCTCTTCCGCGTCGTTATTCATAGTTCTGTAATGGTAAGCTGAGGAGACCTAGGCACGATTTTATTTCGCGGTGATGGAATGTTCAGGGCAGTTATGGGGGAAGTTGCCATAGTTAGTGCAAACCCCTGGTAGAGTTACGTAGTTAATATGGTGGATACCTCAACTCTCTCGCTCGGGCCGCCCCCTATCATGTATAAGTATCCTAGACTTATACCTATTCACGTACTAAAACGTACAACGTAATAGTTATTGTATCTAAATTCAGATGGAAGATAGACGCTGACCTAGACGCACGGTACTATGACGTGCCACGCTCGATGTTGACCACGTGCATTCACGCAATAACGTGATAGTGGAGAACGAAAGTGTTCCGGGTTTAGCTTATCGGCAGCTGATCGGTAACCTTATTGTCATCCGATGAGGAGGTCATGAGATTCACGACGTCAAGACATTGTCTATAAAGGGTCGCTCTGCACTCTCTGGCCGCTTGGCGGCAATATACCCAACTATCTGGAGTGGATACTTATCCCAGTGATAAAAAATATGTTGTGCATCACCTTCCTGAAAGTACAAACCGGGTAAAAGCGGAAGTCTGCTGTTTAATATATGCAGCCGACCAAAAGCAAGATCCAATCAGAAGACTTCGGCAAACGTAGTTGGGGATGTATATTATGTGGTGTTAATGCCATATAATCAGTTCTGACCTGTTATATTAGTTCTCAATGATAGTAAAATTAGAGGACGTTGGAAGCGCCTGCAAGAATAGGGTGCCACGCGCACTACGCAACTCTCATGACCTATAAAGTTCCTCCGTGCGCCTCACGCCGACGCTGGCGCTTTAGGTGATAACAAGAAAGATAAAAGGTTCAAATCAACTAGATGATAGTCTTGCATTCCGGGTACTGGCGCGTTGCTACGGACGCATAAATGGTAATGCTCAGGACGTCACCCGGCTCAAACCGCCATTATTATCTACTATACGGTTTATCAACTAACTCAGGATTTAAACGGGGGTAGGGAAGAACGACTATCCGCCTGTATGGTCAGCTCTCGTAACAGCAGATCCCAAGTCTATTGGGCTGGTGGCCGCGGAGAAGTCCGGATGGTCGGGTCAGAGTGCGGGCACAAATCTGCGGACTTGCGCCGCTCCCACGAGTTCCAACCACGGGTGCCTACCTTTTGGTTCAGCGCCCCACGCCATTCTAGAAGATTGCATTTAGACGGCAGGGGTCGAGCAGGGCATCTGACCGGGTTTGCAACATGTTAGTTCCCCTCGAATCAGCCAATTTCGGGTCATATCTATTACCAGTGATAAACCTAGTTACGAACCAGCATAGCCAGACCAGTGTGCACCACCTCAAGCCCCTCAACATGTAACGAACAATGTTGTCCGTGCATATCCGATCCTTGTCAAGTGATGGGTGCCTTACATTAATCATTATACTTTTAGTTGCGATTAATTAAAGATATGAGGGGGCTTCTTTAGAACCCCTTGCCGGTAAATAATATCCTATTTCTTAGCCTTATAGGGCGATGATCCAAATCTCACCAATATGCTTTGAGTAAAGAACTCCGTTTGCTCCTTATTTCGCCGAGGTATGATCCGCACCTATTCCTGTGTCGTCAGGTGAGCCCGGGAAGAATGTACCATCAATATCCTAACGGTCTCTCCGCAAGGACGCTTTGTTACACTCGGTGTACGGCAGTTGGTCAGAAGCAGAACCAAGCACGAAGTCAGACCCCCCACCGGTGTGTGTACACGTAGACATGTATTTTCGATGCCTCATAGCATATGAACCATGCGCATGATCCCTTGAATTGTATTCCGGGAATAATATCATCGGTTTCCTGTGTTCATAACTAAAGAAGTCGCCGCAAGGGGAGCAATTGTAACACATGGGTCAAGCCTTCATTACGGGAGCGATGATCGGTACGCGGTCTTAACGTTTTTGGCATCTTCCATTATTTTGGATGAAACTTTGACGTCCTTCTTATAGAATGTTTGCTGTCACACTAGCCCATCTAACTGTTACTACCAATCGAATGCTTCTGAACACACACCTTTTGAAACCCTGTGCTCTCGCTGAAACCTAGGTTCATGTGATATAACATTCTCCACAGCGGGGTATGCATGAGTCGCCGTAGGCGCGATGGATGGTTGTTCCGTCCTACACCAACAACTCGGGTCACGGTACCTATGTGTCGCGTCTAGAAGAGCCAATTGTGTTAAAGTACGTACCAATCGGTCTCCCGGAGGGTTGGCTCAGGCTCGGCCCTTGTCAGTAGCC\n"
     ]
    }
   ],
   "source": [
    "'''Reverse Complement Problem: Find the reverse complement of a DNA string.\n",
    "     Input: A DNA string Pattern.\n",
    "     Output: Pattern, the reverse complement of Pattern.\n",
    "\n",
    "CODE CHALLENGE: Solve the Reverse Complement Problem.\n",
    "\n",
    "Visit the code-graded problem!\n",
    "\n",
    "Sample Input:\n",
    "     AAAACCCGGT\n",
    "\n",
    "Sample Output:\n",
    "     ACCGGGTTTT'''\n",
    "'''\n",
    "from string import maketrans\n",
    "with open (\"/Users/juniper_admin/Desktop/rdataset_3_2.txt.txt\", \"r\") as f:\n",
    "    s=f.read()\n",
    "print(s[::-1].translate(maketrans('ACGT', 'TGCA')))\n",
    "'''\n",
    "\n",
    "'''or'''\n",
    "\n",
    "with open (\"../../Downloads/rosalind_ba1c.txt\", \"r\") as f:\n",
    "    seq=f.read()\n",
    "#seq='AATGCTCGATT'\n",
    "complement = {'A': 'T', 'C': 'G', 'G': 'C', 'T': 'A'}\n",
    "reverse_complement = \"\".join(complement.get(base, base) for base in reversed(seq))\n",
    "\n",
    "print(reverse_complement)\n",
    "\n",
    "\n"
   ]
  },
  {
   "cell_type": "code",
   "execution_count": 9,
   "metadata": {
    "collapsed": false
   },
   "outputs": [
    {
     "name": "stdout",
     "output_type": "stream",
     "text": [
      "35 181 188 222 256 290 310 374 390 442 506 538 565 588 595 654 699 744 755 762 786 793 822 842 882 907 934 1084 1099 1166 1182 1189 1196 1221 1301 1339 1346 1379 1438 1445 1513 1543 1582 1663 1670 1731 1758 1787 1823 1872 1939 1955 2136 2160 2167 2182 2197 2219 2226 2246 2304 2311 2357 2414 2430 2437 2486 2493 2509 2516 2523 2530 2635 2653 2660 2736 2743 2759 2766 2845 2852 2972 2989 2996 3003 3010 3051 3139 3161 3177 3227 3261 3268 3303 3344 3353 3390 3435 3451 3474 3489 3513 3546 3553 3637 3644 3685 3692 3707 3784 3838 3863 4014 4040 4047 4054 4061 4113 4181 4228 4270 4299 4359 4376 4429 4474 4506 4546 4576 4583 4615 4622 4639 4646 4779 4828 4862 4869 5082 5114 5121 5186 5201 5208 5236 5243 5290 5305 5369 5411 5442 5482 5517 5593 5617 5654 5855 5870 5877 5907 5967 5982 5989 6076 6083 6094 6117 6132 6139 6146 6153 6183 6205 6254 6261 6271 6315 6331 6367 6383 6420 6488 6495 6530 6537 6552 6597 6643 6658 6678 6695 6702 6732 6816 6858 6865 6882 7013 7051 7072 7090 7097 7104 7125 7143 7203 7235 7277 7286 7293 7378 7427 7466 7473 7567 7576 7599 7606 7647 7654 7661 7668 7722 7729 7736 7748 7807 7827 7849 7897 7904 7920 7963 7996 8012 8030 8046 8090 8125 8141 8148 8207 8249 8267 8336 8403 8421 8486 8512 8556 8563 8603 8610 8643 8650 8657 8664 8750 8777 8814 8821 8833 8854 8861 8868 8900 8907 8927 8949 8973 9115 9122 9132 9171 9184 9191 9198 9222 9269 9284 9342 9368 9476 9535 9585 9604 9727 9734 9768 9775 9821 9850 9857 9864 9871 9887 9894 9901 9908\n"
     ]
    }
   ],
   "source": [
    "'''CODE CHALLENGE: Solve the Pattern Matching Problem (restated below).\n",
    "\n",
    "Pattern Matching Problem: Find all occurrences of a pattern in a string.\n",
    "     Input: Two strings, Pattern and Genome.\n",
    "     Output: All starting positions where Pattern appears as a substring of Genome.\n",
    "\n",
    "Visit the code-graded problem!\n",
    "\n",
    "Sample Input:\n",
    "     ATAT\n",
    "     GATATATGCATATACTT\n",
    "\n",
    "Sample Output:\n",
    "     1 3 9'''\n",
    "\n",
    "#f= open (\"/Users/juniper_admin/Desktop/rosalind_dna.txt\", \"r\")\n",
    "f= open ('../../Downloads/rosalind_ba1d.txt', \"r\")\n",
    "lines = f.read().splitlines() # read in the input from STDIN\n",
    "#pattern='ATAT'\n",
    "#string='GATATATGCATATACTT'\n",
    "pattern=lines[0]\n",
    "string=lines[1]\n",
    "output=list()\n",
    "for n in range(0,(len(string)-(len(pattern)-1))):\n",
    "    word=string[n:n+len(pattern)]\n",
    "    if word == pattern:\n",
    "        output.append(n)\n",
    "        \n",
    "result=' '.join(map(str,output)) \n",
    "        \n",
    "print(result)"
   ]
  },
  {
   "cell_type": "code",
   "execution_count": 10,
   "metadata": {
    "collapsed": false
   },
   "outputs": [
    {
     "name": "stdout",
     "output_type": "stream",
     "text": [
      "TGTTATTATA TGACGGTTGC TATCCTGCCT GGCGTATTTC GCAGTATGCA GAATAGCTCA CCTATGCCGG TATATAACCC\n",
      "8\n",
      "The script took 0.120417118073 s\n"
     ]
    }
   ],
   "source": [
    "'''CODE CHALLENGE: Solve the Clump Finding Problem (restated below). You will need to make sure that your algorithm is efficient enough to handle a large dataset.\n",
    "\n",
    "Clump Finding Problem: Find patterns forming clumps in a string.\n",
    "     Input: A string Genome, and integers k, L, and t.\n",
    "     Output: All distinct k-mers forming (L, t)-clumps in Genome.\n",
    "\n",
    "Visit the code-graded problem!\n",
    "\n",
    "Sample Input:\n",
    "     CGGACTCGACAGATGTGAAGAACGACAATGTGAAGACTCGACACGACAGAGTGAAGAGAAGAGGAAACATTGTAA\n",
    "     5 50 4\n",
    "\n",
    "Sample Output:\n",
    "     CGACA GAAGA'''\n",
    "\n",
    "from collections import defaultdict\n",
    "import time\n",
    "start_time = time.time()\n",
    "\n",
    "#f= open (\"/Users/juniper_admin/Desktop/E-coli.txt\", \"r\")\n",
    "f= open ('../../Downloads/rosalind_ba1e.txt', \"r\")\n",
    "\n",
    "lines = f.read().splitlines() # read in the input from STDIN\n",
    "\n",
    "genome=lines[0]\n",
    "k=int(lines[1].split(\" \")[0])\n",
    "L=int(lines[1].split(\" \")[1])\n",
    "t=int(lines[1].split(\" \")[2])\n",
    "f.close()\n",
    "#print k,L,t\n",
    "# find frequency of all kmer for k=5\n",
    "kmer_dic = defaultdict(list)\n",
    "    \n",
    "for n in range(len(genome)-(k-1)):\n",
    "    kmer_dic[genome[n:n+k]].append(n)\n",
    "\n",
    "    \n",
    "suc_keys = []\n",
    "    \n",
    "for key in kmer_dic.keys():\n",
    "    if len(kmer_dic[key])>=t:\n",
    "        index_bank = []\n",
    "        for index in kmer_dic[key]:\n",
    "            index_bank.append(index)\n",
    "            \n",
    "        for list_index in range(0,len(index_bank)-(t-1)):\n",
    "            if index_bank[list_index+t-1]+k-index_bank[list_index]<=L:\n",
    "                suc_keys.append(key) #,index_bank,index_bank[list_index+t-1]+(k-1)-index_bank[list_index]\n",
    "                break\n",
    "            else:\n",
    "                continue        \n",
    "    else:\n",
    "        continue\n",
    "\n",
    "\n",
    "print (' '.join(map(str,suc_keys)))\n",
    "print(len(set(suc_keys)))\n",
    "print ('The script took '+str(time.time()-start_time)+' s')"
   ]
  },
  {
   "cell_type": "code",
   "execution_count": 11,
   "metadata": {
    "collapsed": false
   },
   "outputs": [
    {
     "name": "stdout",
     "output_type": "stream",
     "text": [
      "6747447442464932\n"
     ]
    }
   ],
   "source": [
    "'''PatternToNumber(Pattern)'''\n",
    "#f= open (\"/Users/juniper_admin/Desktop/E-coli.txt\", \"r\")\n",
    "f= open ('../../Downloads/rosalind_ba1l.txt', \"r\")\n",
    "\n",
    "lines = f.read().splitlines() # read in the input from STDIN\n",
    "seq=lines[0]\n",
    "#seq='ATGCAA'\n",
    "revseq=seq[::-1]\n",
    "d={'A':0,'C':1,'G':2,'T':3}\n",
    "number=0\n",
    "for i in range(0,len(seq)-1):\n",
    "    number += d[seq[i]]*(4**(len(seq)-1-i))\n",
    "print(number) "
   ]
  },
  {
   "cell_type": "code",
   "execution_count": 55,
   "metadata": {
    "collapsed": false
   },
   "outputs": [
    {
     "name": "stdout",
     "output_type": "stream",
     "text": [
      "ATGCAA\n"
     ]
    }
   ],
   "source": [
    "'''NumberToPattern'''\n",
    "d={'A':0,'C':1,'G':2,'T':3,0:'A',1:'C',2:'G',3:'T'}\n",
    "\n",
    "number=912\n",
    "i=0\n",
    "k=6\n",
    "pattern=[]\n",
    "result=[]\n",
    "nucl=[]\n",
    "#print(number/4,number%4)\n",
    "while i<k:\n",
    "    pattern.append(number%4)\n",
    "    number=number/4\n",
    "    i += 1\n",
    "print(\"\".join(d.get(base, base) for base in reversed(pattern)))\n",
    "print result"
   ]
  },
  {
   "cell_type": "code",
   "execution_count": 2,
   "metadata": {
    "collapsed": false,
    "scrolled": true
   },
   "outputs": [
    {
     "name": "stdout",
     "output_type": "stream",
     "text": [
      "2 2 1 1 0 1 1 0 1 2 0 0 1 0 1 1 1 2 0 0 2 1 1 1 1 0 0 1 1 1 1 1 1 0 0 0 0 1 2 2 0 2 2 0 0 1 0 3 1 1 1 1 2 1 1 2 1 1 0 1 2 2 0 0 1 1 1 3 1 1 0 1 1 0 0 1 0 1 1 1 3 0 1 0 1 0 1 1 1 2 0 2 1 1 0 0 0 0 1 0 0 0 0 1 0 0 1 1 0 0 0 1 1 0 0 2 2 2 0 1 2 0 1 0 0 1 0 1 1 3 0 0 1 2 1 0 3 1 0 0 0 1 1 0 0 0 1 2 0 0 0 2 0 3 1 0 0 0 3 0 2 0 0 0 0 0 2 0 2 1 0 1 0 2 0 0 0 2 0 0 2 0 2 0 0 1 1 0 0 1 0 2 1 3 1 2 0 0 0 3 3 1 1 0 0 0 2 0 1 1 0 2 2 2 2 0 0 0 1 0 1 0 0 1 0 0 0 1 1 0 1 1 0 0 0 0 2 1 3 1 0 0 1 1 1 0 1 1 0 1 0 0 1 0 1 0 0 0 1 0 1 2 0 0 0 1 3 2 0 3 1 2 2 1 0 1 2 1 2 0 0 0 0 0 1 1 2 0 1 1 2 0 0 0 0 1 2 0 2 0 1 1 1 0 4 2 0 0 1 0 0 0 0 1 0 1 0 0 1 1 0 2 2 1 1 1 0 0 1 0 1 0 1 0 0 0 1 0 1 0 0 0 0 0 1 2 0 0 0 0 0 1 0 1 0 1 1 3 0 2 0 0 2 1 1 1 0 2 0 1 0 1 2 1 0 0 0 0 1 1 1 2 0 1 0 0 0 0 1 0 0 0 0 2 0 0 3 1 0 0 2 0 2 1 1 1 1 0 0 0 2 0 3 0 0 1 0 0 0 0 1 0 0 0 0 1 0 3 3 0 1 2 1 0 1 1 0 1 0 1 0 0 0 0 4 0 0 0 0 1 1 3 1 0 1 0 1 0 0 0 1 2 1 0 1 1 2 1 0 0 0 3 0 0 0 0 1 0 0 0 1 1 1 0 0 1 0 1 1 0 1 2 1 0 0 0 1 0 0 1 3 1 0 0 1 0 0 0 0 1 0 2 3 0 0 0 2 2 0 0 0 0 0 2 0 1 1 0 1 0 1 0 0 1 2 0 0 1 1 0 0 0 0 0 1 0 2 1 1 0 2 0 0 0 0 0 0 1 0 0 0 0 2 1 0 3 0 0 0 1 0 1 0 1 0 0 0 0 2 1 0 1 0 1 1 0 3 0 1 0 1 1 0 1 0 0 1 0 0 0 0 1 1 0 1 1 0 1 0 0 0 1 3 0 1 1 0 1 0 3 1 0 0 1 3 1 0 1 1 0 0 0 1 1 1 0 0 1 0 1 0 0 2 2 0 1 0 0 1 0 0 0 0 0 1 0 1 0 0 0 0 0 0 0 0 2 1 1 0 0 0 1 2 0 0 1 0 0 2 1 0 0 0 0 1 0 2 1 0 2 3 0 1 2 0 0 0 2 0 1 0 1 2 0 0 1 1 1 3 1 0 1 1 2 1 1 1 1 0 0 0 2 1 0 2 0 1 0 3 1 0 0 0 0 0 1 1 0 0 1 2 0 0 1 1 0 1 0 1 0 0 0 1 1 1 2 0 1 1 0 0 0 0 2 1 1 0 0 1 0 1 2 0 0 1 4 0 2 1 0 3 2 0 1 2 0 1 2 0 0 0 1 0 0 1 0 1 3 0 1 1 3 0 1 2 1 0 0 0 0 0 2 1 1 1 0 2 0 2 0 1 2 0 0 0 0 0 4 0 0 0 1 0 0 1 1 2 2 0 2 1 1 0 2 4 0 0 0 1 1 0 1 0 0 2 0 0 1 2 1 0 1 2 2 0 0 1 2 1 0 1 0 0 0 1 1 1 1 0 0 1 0 1 0 0 0 0 0 0 1 1 0 1 0 1 0 2 1 0 0 0 0 1 0 0 0 0 1 0 1 0 1 0 2 1 0 0 0 1 1 1 0 0 1 2 1 0 0 0 1 1 0 0 0 0 0 1 1 0 0 1 1 0 0 2 1 1 1 0 0 2 0 2 0 1 0 1 0 0 0 3 0 0 0 1 0 0 1 0 0 0 2 2 0 1 1 0 2 1 1 0 0 1 2 0 1 1 2 0 0 2 0 1 0 0 0 0 1 1 0 0 0 0 0 1 1 0 0 1 1 0 0 0 1 2 1 0 1 0 0 0 2 0 1\n"
     ]
    }
   ],
   "source": [
    "'''ComputingFrequencies(Text , k)\n",
    "        for i ← 0 to 4k − 1\n",
    "            FrequencyArray(i) ← 0\n",
    "        for i ← 0 to |Text| − k\n",
    "            Pattern ← Text(i, k)\n",
    "            j ← PatternToNumber(Pattern)\n",
    "            FrequencyArray(j) ← FrequencyArray(j) + 1\n",
    "return FrequencyArray'''\n",
    "#\n",
    "def PatternToNumber(Pattern):\n",
    "    d={'A':0,'C':1,'G':2,'T':3}\n",
    "    number=0\n",
    "    for i in range(0,len(Pattern)):\n",
    "        number = number + d[Pattern[i]]*(4**(len(Pattern)-1-i))   \n",
    "    return(number);\n",
    "\n",
    "'''ComputingFrequencies(Text , k)'''\n",
    "f=open(\"/Users/juniper_admin/Desktop/dataset_2994_5.txt\", \"r\")\n",
    "lines = f.read().splitlines()\n",
    "Text=lines[0]\n",
    "k=int(lines[1])\n",
    "FrequencyArray={}\n",
    "for i in range(4**k):\n",
    "    FrequencyArray[i]= 0   \n",
    "for n in range(0,len(Text)-(k-1)):\n",
    "    Pattern = Text[n:n+k]\n",
    "    j=PatternToNumber(Pattern)\n",
    "    FrequencyArray[j] += 1\n",
    "print(' '.join(map(str,FrequencyArray.values())))    "
   ]
  },
  {
   "cell_type": "code",
   "execution_count": 17,
   "metadata": {
    "collapsed": false
   },
   "outputs": [
    {
     "name": "stdout",
     "output_type": "stream",
     "text": [
      "6206915284\n",
      "The script took 0.000726938247681 s\n",
      "6206915284\n",
      "The script took 0.000611066818237 s\n"
     ]
    },
    {
     "data": {
      "text/plain": [
       "'Both functions are as fast'"
      ]
     },
     "execution_count": 17,
     "metadata": {},
     "output_type": "execute_result"
    }
   ],
   "source": [
    "import time\n",
    "#------------------------------------\n",
    "'''CODE CHALLENGE: Implement PatternToNumber version 2.\n",
    "     Input: A DNA string Pattern.\n",
    "     Output: The integer PatternToNumber(Pattern).'''\n",
    "\n",
    "start_time = time.time()\n",
    "#--\n",
    "def PatternToNumber(Pattern):\n",
    "        d={'A':0,'C':1,'G':2,'T':3}\n",
    "        if Pattern == '':\n",
    "            return 0\n",
    "        symbol = Pattern[-1]\n",
    "        Pattern= Pattern[:-1]\n",
    "        #print(symbol,Pattern)\n",
    "        return 4 * PatternToNumber(Pattern) + d[symbol]\n",
    "\n",
    "#--\n",
    "f=open(\"/Users/juniper_admin/Desktop/dataset_3010_2.txt\", \"r\")\n",
    "f=open(\"/Users/juniper_admin/Desktop/dataset_3010_2.txt\", \"r\")\n",
    "\n",
    "lines = f.read().splitlines()\n",
    "Pattern=lines[0]\n",
    "#--\n",
    "print(PatternToNumber(Pattern))\n",
    "print ('The script took '+str(time.time()-start_time)+' s')\n",
    "#------------------------------------------------------------------\n",
    "'''PatterToNumber version 1'''\n",
    "start_time = time.time()\n",
    "#--\n",
    "def PatternToNumber(Pattern):\n",
    "    d={'A':0,'C':1,'G':2,'T':3}\n",
    "    number=0\n",
    "    for i in range(0,len(Pattern)):\n",
    "        number += d[Pattern[i]]*(4**(len(Pattern)-1-i))\n",
    "    return(number);    \n",
    "#--\n",
    "f=open(\"/Users/juniper_admin/Desktop/dataset_3010_2.txt\", \"r\")\n",
    "\n",
    "lines = f.read().splitlines()\n",
    "Pattern=lines[0]\n",
    "#--\n",
    "print(PatternToNumber(Pattern))\n",
    "print ('The script took '+str(time.time()-start_time)+' s')\n",
    "\n",
    "'''Both functions are as fast'''"
   ]
  },
  {
   "cell_type": "code",
   "execution_count": 13,
   "metadata": {
    "collapsed": false
   },
   "outputs": [
    {
     "name": "stdout",
     "output_type": "stream",
     "text": [
      "GACCATA\n"
     ]
    }
   ],
   "source": [
    "'''NumberToPattern V2'''\n",
    "\n",
    "def NumberToPattern(Number, k):\n",
    "    d={'A':0,'C':1,'G':2,'T':3}\n",
    "    pattern=[]\n",
    "    if k==1:\n",
    "        return (list(d.keys())[list(d.values()).index(int(Number))])\n",
    "    prefixIndex = Number/4\n",
    "    r = Number%4\n",
    "    PrefixPattern = NumberToPattern(prefixIndex, (k-1))\n",
    "    symbol = (list(d.keys())[list(d.values()).index(r)])\n",
    "    return PrefixPattern+symbol\n",
    "#print(NumberToPattern(13,3))\n",
    "\n",
    "\n",
    "f= open ('../../Downloads/rosalind_ba1m.txt', \"r\")\n",
    "lines = f.read().splitlines() \n",
    "Number=int(lines[0])\n",
    "k=int(lines[1])\n",
    "\n",
    "print NumberToPattern(Number, k)"
   ]
  },
  {
   "cell_type": "code",
   "execution_count": 47,
   "metadata": {
    "collapsed": false
   },
   "outputs": [
    {
     "name": "stdout",
     "output_type": "stream",
     "text": [
      "AAACCACTCG\n",
      "The script took 0.00101113319397 s\n",
      "AAACCACTCG\n",
      "The script took 0.000929117202759 s\n"
     ]
    },
    {
     "data": {
      "text/plain": [
       "'V1 seems faster'"
      ]
     },
     "execution_count": 47,
     "metadata": {},
     "output_type": "execute_result"
    }
   ],
   "source": [
    "import time\n",
    "#------------------------------------\n",
    "'''CODE CHALLENGE: Implement NumberToPattern version 2.\n",
    "'''\n",
    "\n",
    "start_time = time.time()\n",
    "#--\n",
    "def NumberToPattern(Number, k):\n",
    "    d={'A':0,'C':1,'G':2,'T':3}\n",
    "    pattern=[]\n",
    "    if k==1:\n",
    "        return (list(d.keys())[list(d.values()).index(int(Number))])\n",
    "    prefixIndex = Number/4\n",
    "    r = Number%4\n",
    "    PrefixPattern = NumberToPattern(prefixIndex, (k-1))\n",
    "    symbol = (list(d.keys())[list(d.values()).index(r)])\n",
    "    return PrefixPattern+symbol\n",
    "\n",
    "#--\n",
    "f=open(\"/Users/juniper_admin/Desktop/dataset_3010_4.txt\", \"r\")\n",
    "lines = f.read().splitlines()\n",
    "Number=int(lines[0])\n",
    "k=int(lines[1])\n",
    "\n",
    "#--\n",
    "print(NumberToPattern(Number, k))\n",
    "print ('The script took '+str(time.time()-start_time)+' s')\n",
    "#------------------------------------------------------------------\n",
    "'''NumberToPattern version 1'''\n",
    "start_time = time.time()\n",
    "#--\n",
    "def NumberToPattern(Number, k):\n",
    "    d={'A':0,'C':1,'G':2,'T':3,0:'A',1:'C',2:'G',3:'T'}\n",
    "    number=Number\n",
    "    i=0\n",
    "    pattern=[]\n",
    "\n",
    "    while i<k:\n",
    "        pattern.append(number%4)\n",
    "        number=number/4\n",
    "        i += 1\n",
    "    return(\"\".join(d.get(base, base) for base in reversed(pattern)));  \n",
    "#--\n",
    "f=open(\"/Users/juniper_admin/Desktop/dataset_3010_4.txt\", \"r\")\n",
    "lines = f.read().splitlines()\n",
    "Number=int(lines[0])\n",
    "k=int(lines[1])\n",
    "\n",
    "#--\n",
    "print(NumberToPattern(Number, k))\n",
    "print ('The script took '+str(time.time()-start_time)+' s')\n",
    "\n",
    "'''V1 seems faster'''"
   ]
  },
  {
   "cell_type": "code",
   "execution_count": null,
   "metadata": {
    "collapsed": true
   },
   "outputs": [],
   "source": []
  },
  {
   "cell_type": "code",
   "execution_count": null,
   "metadata": {
    "collapsed": true
   },
   "outputs": [],
   "source": []
  },
  {
   "cell_type": "code",
   "execution_count": null,
   "metadata": {
    "collapsed": true
   },
   "outputs": [],
   "source": []
  }
 ],
 "metadata": {
  "kernelspec": {
   "display_name": "Python 2",
   "language": "python",
   "name": "python2"
  },
  "language_info": {
   "codemirror_mode": {
    "name": "ipython",
    "version": 2
   },
   "file_extension": ".py",
   "mimetype": "text/x-python",
   "name": "python",
   "nbconvert_exporter": "python",
   "pygments_lexer": "ipython2",
   "version": "2.7.9"
  }
 },
 "nbformat": 4,
 "nbformat_minor": 0
}
