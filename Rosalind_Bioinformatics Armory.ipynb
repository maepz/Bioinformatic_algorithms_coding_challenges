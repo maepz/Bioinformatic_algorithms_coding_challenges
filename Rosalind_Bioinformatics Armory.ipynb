{
 "cells": [
  {
   "cell_type": "code",
   "execution_count": 7,
   "metadata": {},
   "outputs": [
    {
     "name": "stdout",
     "output_type": "stream",
     "text": [
      "221 236 244 241\n"
     ]
    }
   ],
   "source": [
    "'''Introduction to the Bioinformatics Armory '''\n",
    "\n",
    "from Bio.Seq import Seq\n",
    "\n",
    "my_seq = Seq(\"AGCTTTTCATTCTGACTGCAACGGGCAATATGTCTCTGTGTGGATTAAAAAAAGAGTGTCTGATAGCAGC\")\n",
    "f=open('../../Downloads/rosalind_ini.txt','r')\n",
    "lines=f.read().splitlines()\n",
    "f.close()\n",
    "my_seq=lines[0]\n",
    "\n",
    "print ' '.join(map(str,[my_seq.count(X) for X in ['A','C','G','T']]))"
   ]
  },
  {
   "cell_type": "code",
   "execution_count": 26,
   "metadata": {},
   "outputs": [
    {
     "name": "stdout",
     "output_type": "stream",
     "text": [
      "lipoate biosynthetic process\n",
      "protein lipoylation\n"
     ]
    }
   ],
   "source": [
    "''' Introduction to Protein Databases '''\n",
    "\n",
    "from Bio import ExPASy\n",
    "from Bio import SwissProt\n",
    "\n",
    "\n",
    "prot='Q5SLP9'\n",
    "f=open('../../Downloads/rosalind_dbpr.txt','r')\n",
    "lines=f.read().splitlines()\n",
    "f.close()\n",
    "prot=lines[0]\n",
    "\n",
    "handle = ExPASy.get_sprot_raw(prot) #you can give several IDs separated by commas\n",
    "record = SwissProt.read(handle) # use SwissProt.parse for multiple proteins\n",
    "dir(record)\n",
    "#print record\n",
    "#print record.cross_references\n",
    "go=[item[2] for item in record.cross_references if item[0]=='GO']\n",
    "\n",
    "for item in go:\n",
    "    if item[0:2]=='P:':\n",
    "        print item[2:]\n"
   ]
  },
  {
   "cell_type": "code",
   "execution_count": 41,
   "metadata": {},
   "outputs": [
    {
     "name": "stdout",
     "output_type": "stream",
     "text": [
      ">JX569368.1 Myrciaria dubia isolate 1-3 actin (act) mRNA, partial cds\n",
      "TTGTTTGTGACAATGGAACTGGAATGGTGAAGGCTGGGTTTGCTGGTGATGATGCCCCTA\n",
      "GGGCAGTCTTCCCCAGCATTGTTGGCAGGCCACGACACACTGGTGTCATGGTTGGAATGG\n",
      "GTCAGAAGGATGCCTATGTTGGTGATGAAGCCCAATCTAAAAGAGGTATTCTTACYTTGA\n",
      "AATACCCCATTGAGCATGGTATTGTCAGCAAYTGGGAYGACATGGAGAAAATTTGGCATC\n",
      "ACACATTCTACAAT\n",
      "\n"
     ]
    }
   ],
   "source": [
    "''' Data Formats ''' \n",
    "\n",
    "from Bio import Entrez\n",
    "Entrez.email = 'maeperez@uvic.ca'\n",
    "from Bio import SeqIO\n",
    "\n",
    "#seqs='FJ817486, JX069768, JX469983'\n",
    "seqs='KJ660348, FJ217161, KC545393, AF272001, KC242792, KC589025, FJ968794, FJ217162, AF522874, FJ621583'\n",
    "\n",
    "f=open('../../Downloads/rosalind_frmt.txt','r')\n",
    "lines=f.read().splitlines()\n",
    "f.close()\n",
    "seqs=', '.join(lines[0].split(' '))\n",
    "#print seqs\n",
    "''''\n",
    "handle = Entrez.efetch(db=\"nucleotide\", id=[seqs], rettype=\"fasta\")\n",
    "records = list (SeqIO.parse(handle, \"fasta\")) #we get the list of SeqIO objects in FASTA format\n",
    "short=min([len(records[n].seq) for n in range(len(records))])\n",
    "id= [records[n].id[:-2] for n in range(len(records)) if len(records[n].seq) ==short][0]\n",
    "seq=Entrez.efetch(db=\"nucleotide\", id=[id], rettype=\"fasta\")\n",
    "print seq.read()\n",
    "'''\n",
    "handle = Entrez.efetch(db=\"nucleotide\", id=seqs, rettype=\"fasta\")\n",
    "records = list (SeqIO.parse(handle, \"fasta\")) #we get the list of SeqIO objects in FASTA format\n",
    "minseq=min([len(seq.seq) for seq in records])\n",
    "\n",
    "print [seq.format('fasta') for seq in records if len(seq.seq)==minseq][0]"
   ]
  },
  {
   "cell_type": "code",
   "execution_count": 99,
   "metadata": {},
   "outputs": [
    {
     "name": "stdout",
     "output_type": "stream",
     "text": [
      "2 IKLSWWGKAPDAMCRCEGPSQTPENMLAWYGPKMWYNYSPGWGHTSKWAVPTVPFERWQASSDSVARTLQDISKYHVLAQTWGMRTHKESLYSKAVHCTYRRVRWRDPGSPYLLSAPPSTNRNFGLCCAWIPLHPPLRVITVDTRWIIYSSSFLKEQSYLTKPSSRTGGTVYRDFRNDHAVWSSCGKFPSRMYARYTAIFTSWTMTKSLDTGRSPFFLHLISALSALANFAPLPHGAKARMRWLFALNLLMLSSLYVTAMRKYTGFRGLGCKAASEQTGNRPSYAQVVNMAFLATAMALFLFQLGRLRDPVNPKCQLMHAYKLTGSGRTVALNSVLMILLRNAGAEKYKEPIRFYLQVTFSPKWISVAEWDTTHSCVVTQICEVDLLNVGTDKVMRRLICWRPRDSKDVSSMRSAAFTHMGAALEGVLPMSGSVWTYENARICPPMEVSATSKTQAQSCLLTQGDTLEGARGLCFAPLNKSMATFTAEVHALCDSCMSRDTVSGLSLAVSRFFSPSHLAGLSDPNVNAWPESLSYYLNTVSTDLWGCFRVSRPLPVYSRKCKHYWRENGQFFCTFLHGAPNSESCKCIVHFQVLRLEWFICSVIGLWTQPHWRLYRFPVLDHPLHWRPVVAVDMLRTLNLAGNVRPGGRASCRTAQLMMLHTLPFSFEASMTNYLWGVSLSTRVATFGINTPLLRFKVGMYYCVLIICSGLIISYGQTWSHIWLIVVMSVGRGHYMLNCVWANLYGQKGWAWYPAGADSGPPQKTLVGVFHCGSTQTCSTSLAELGCRTFGKQPGHFSTTSKWLTWLYWQHSTPGVMLLHSSMRKFVTSVILLHTVGRDKNVRARQCYAHSNFPDVRFADNDGVTLDCRPHLWVRVDPGQAKFAMWHYIPPMIPNVCASQLHPVMSAMNGHYPNEQVSKDKSGESSILEVGVKDTTPSLGPNFSSMTMIAIRPSFVLPGEWGHSTIRDGSTCQLRGRSRMALNGCLLDYDSTAPQPKVHYVAMEPWSTVSLCCNPVSVFCFTESNVTAIGRSPSMFVEPKYTLRVQSVHSHCMHKPMCHQGYSWLYFAWMLSEHWFILPWSHVETKRADAVQGLWPYEVSMPPRNAMAEAECVNRRQYRREQRYAHSVLLSIFSPLEAASYTKYTQPLETNAVLTWTFVGLFSLLATPTGVYAFKRAVLYHTEEPEVGWLNHNWDHPWELGDTWPKGTSATTLNNPLRTYPTRWERPNFHSDRLHAGLYFCSRLLNRRMSIKAPPASRGTIIFWWVWMPHMHFFVEECLGEQVVNFVEWTGRSRSHIPSRQQILPNGCSQCQSVADMVSMLLCRSIKVTCMSRKIEVSECPPVGRKMRESSCCVDLPTVDIKSSWPYVALSRCLLLCRHIGGVEPSASSSGALWELYVTRRWSPETTHSCSMVYTTMQILCISGTLSALPVTCRMQTPTYICGHKKLRSSCLAEWTGCRLLTLFADFGPKWLLMVVMAQLIHGTVWGDVHDVKAAVPGKSYCLLFNEFASNEPLNFVETRQNNDSDYCTHQVTLQTDLNSTDCPANCRDCSSCTPVPEALVAKRQACKACMGQAVRVSHKGNPYENVFSYFVKGLTKDTLLKATQGARDVGLPRMSCQNSRFYRSPLKSSVPAHHGNWEPLCTGGRRPKPSPLREPSQHTHAASRWMTHEASTVESRLGGQLGSRGVKISLAVIIDTVQVLGLMYWGVATHYTAVLEWWTRQELTLNWGGYHSQVKHPFTLDSAHTNQLRSSFAAGPTGPGSGYTCGEGQAGVYPYLAMHMMSVTACSNANYAGLAVVSFWSLRMNDQMSYSGSTSPHYAKVITNGKCANSSWGGACLTTRVGGHGGKTTRLTHAGRPVKLRVSVRSNPAMNNANPSSMLTGIPTVMPLLLHRNFLGYLSELLESRHMTWHINLVPNSWELRNTYNCCWMSVLKVALNNTAWEAKGVLNTRCALCLITQPRRCWFEYSEKVQSNQKPTHTYTFCTFFLPQAFVTLPRSMSRTMGFCASFSSQETLGPVACLSRTWSRESGQLHTRVKMNPEFWPWCTAYECSESLAPMIKLAMSHNGRIGLVNLWPKSSHASCLKGDWQMFLQTGLVEEIKIATKAGDRLIARKVTSQSLLSLDGPLANIVNSGMPAQQNARCNSKSSGALMDLELTVSPRLWAVTKIVVQAKDVVEMLWRVDSSSWKLPLSPYLWDAVIIDNGPPGKSEGQSTSSMGMKSHTTSSATTTQCEVRTLQTMLGRRHITPMDGHAVQYEYRHGQGKEARAEKLLVLKMTIPSVAVLPPHWAFTISPTILWVVCVYLEFQGTEEQLYKLMQINSFSCGCYDLLDRVNGSVYVLRYSEIWASHEQMMLLVDNGAFNNPAPLSDSVSVTPPISSATTAAAYVCLPEFRNRVAAPVLMAGISYSTGTGATRCYDAARVQSNFCAKQWWNTLSQTCASSLDLISPRYGLYATMYKQYSLMETHNCLDRPLSPRYMTGHTSYSSMLPPSMYTMELFLYRGEYHIPLTTGLSALYELHAVIGVPNSLSSPFCLNKKLRAYHVVRVQSSHTLLTLALLTVGSALQEMHNMVEEATAAEFREWTDVLRSNSQLGYHPDTKPGSPPKEPQRSPARVLYRRISWVMFGQTLCKALTDVEHYAQHTYCLERIQLVAVVTVACPDYQVVVIEEVRICTVAPTHQHCRCNTSDLKIRDAPDPFLDAPNFVKATFKAPFSTHLVRGLLRVTRMFKNNIEGCTGIVMLTADRIAAFVSNPHVLYCWPMSTVCGSRCGLRTTFPADPVGLNCSFLELGVDLLR*\n"
     ]
    }
   ],
   "source": [
    "''' Protein Translation  '''\n",
    "\n",
    "from Bio.Seq import Seq\n",
    "from Bio.Alphabet import generic_dna\n",
    "\n",
    "my_seq = Seq(\"ATGGCCATGGCGCCCAGAACTGAGATCAATAGTACCCGTATTAACGGGTGA\",generic_dna)\n",
    "prot= Seq('MAMAPRTEINSTRING')\n",
    "\n",
    "f=open('../../Downloads/rosalind_ptra.txt','r')\n",
    "lines=f.read().splitlines()\n",
    "f.close()\n",
    "my_seq=Seq(lines[0],generic_dna)\n",
    "prot=lines[1]\n",
    "\n",
    "#print my_seq.translate(table=1)\n",
    "\n",
    "for n in range(7)[1:]:\n",
    "    if prot+'*' in my_seq.translate(table=n):\n",
    "        print n, my_seq.translate(table=n)\n"
   ]
  },
  {
   "cell_type": "code",
   "execution_count": 3,
   "metadata": {},
   "outputs": [
    {
     "ename": "IOError",
     "evalue": "[Errno 2] No such file or directory: '../Dropbox/BIOINF/rosalind_gbk.txt'",
     "output_type": "error",
     "traceback": [
      "\u001b[0;31m---------------------------------------------------------------------------\u001b[0m",
      "\u001b[0;31mIOError\u001b[0m                                   Traceback (most recent call last)",
      "\u001b[0;32m<ipython-input-3-0b96d6dc7ab5>\u001b[0m in \u001b[0;36m<module>\u001b[0;34m()\u001b[0m\n\u001b[1;32m      4\u001b[0m \u001b[0;34m\u001b[0m\u001b[0m\n\u001b[1;32m      5\u001b[0m \u001b[0;31m#f=open('input.txt','r')\u001b[0m\u001b[0;34m\u001b[0m\u001b[0;34m\u001b[0m\u001b[0m\n\u001b[0;32m----> 6\u001b[0;31m \u001b[0mf\u001b[0m\u001b[0;34m=\u001b[0m\u001b[0mopen\u001b[0m\u001b[0;34m(\u001b[0m\u001b[0;34m'../Dropbox/BIOINF/rosalind_gbk.txt'\u001b[0m\u001b[0;34m,\u001b[0m\u001b[0;34m'r'\u001b[0m\u001b[0;34m)\u001b[0m\u001b[0;34m\u001b[0m\u001b[0m\n\u001b[0m\u001b[1;32m      7\u001b[0m \u001b[0;34m\u001b[0m\u001b[0m\n\u001b[1;32m      8\u001b[0m \u001b[0mlines\u001b[0m\u001b[0;34m=\u001b[0m\u001b[0mf\u001b[0m\u001b[0;34m.\u001b[0m\u001b[0mread\u001b[0m\u001b[0;34m(\u001b[0m\u001b[0;34m)\u001b[0m\u001b[0;34m.\u001b[0m\u001b[0msplitlines\u001b[0m\u001b[0;34m(\u001b[0m\u001b[0;34m)\u001b[0m\u001b[0;34m\u001b[0m\u001b[0m\n",
      "\u001b[0;31mIOError\u001b[0m: [Errno 2] No such file or directory: '../Dropbox/BIOINF/rosalind_gbk.txt'"
     ]
    }
   ],
   "source": [
    "''' GenBank Introduction '''\n",
    "\n",
    "\n",
    "\n",
    "#f=open('input.txt','r')\n",
    "f=open('../../Downloads/rosalind_gbk.txt','r')\n",
    "\n",
    "lines=f.read().splitlines()\n",
    "f.close()\n",
    "org=lines[0]\n",
    "_from=lines[1]\n",
    "_to=lines[2]\n",
    "#print org,_from,_to\n",
    "term=\"Cypripedioideae[Orgn] AND matK[Gene]\"\n",
    "query=org+\"[Organism] AND \"+_from+\"[PDAT] : \"+_to+\"[PDAT]\"\n",
    "print query\n",
    "\n",
    "from Bio import Entrez\n",
    "\n",
    "Entrez.email = \"maeperez@uvic.ca\"\n",
    "handle = Entrez.esearch(db=\"nucleotide\", term=query)\n",
    "record= Entrez.read(handle)\n",
    "handle.close()\n",
    "print record[\"Count\"]\n"
   ]
  },
  {
   "cell_type": "code",
   "execution_count": 79,
   "metadata": {},
   "outputs": [
    {
     "name": "stdout",
     "output_type": "stream",
     "text": [
      "['NM_001266228.1.fasta', 'NM_001135551.1.fasta']\n",
      "/Users/juniper_admin/Desktop/bioinformatic_softwares/EMBOSS-6.6.0/emboss/needle -outfile=needle.txt -asequence=NM_001266228.1.fasta -bsequence=NM_001135551.1.fasta -gapopen=10 -gapextend=1 -endweight=True -endopen=10 -endextend=10\n",
      "needle.txt\n",
      "Needleman-Wunsch global alignment of two sequences\n",
      "\n",
      "1487\n"
     ]
    }
   ],
   "source": [
    "''' EMBOSS '''\n",
    "from Bio import Emboss\n",
    "from Bio import AlignIO\n",
    "from Bio.Emboss.Applications import NeedleCommandline\n",
    "\n",
    "f=open('../../Downloads/rosalind_need.txt','r')\n",
    "#f=open('input.txt','r')\n",
    "lines=f.read().splitlines()\n",
    "f.close()\n",
    "seqs=', '.join(lines[0].split(' '))\n",
    "\n",
    "#### download fastas for each sequence\n",
    "handle = Entrez.efetch(db=\"nucleotide\", id=seqs, rettype=\"fasta\")\n",
    "records = list (SeqIO.parse(handle, \"fasta\")) #we get the list of SeqIO objects in FASTA format\n",
    "fastafile=[]\n",
    "for seq in records:\n",
    "    fastafile+=[seq.id+'.fasta']\n",
    "    SeqIO.write(seq, str(seq.id)+'.fasta', \"fasta\")\n",
    "\n",
    "print fastafile\n",
    "#### create a complete needle command line object in one go\n",
    "needle_cline = NeedleCommandline(r'/Users/juniper_admin/Desktop/bioinformatic_softwares/EMBOSS-6.6.0/emboss/needle',asequence=fastafile[0], bsequence=fastafile[1],gapopen=10, gapextend=1,endweight=True,endopen=10,endextend=10, outfile=\"needle.txt\")\n",
    "print needle_cline\n",
    "print needle_cline.outfile\n",
    "\n",
    "#### use Python to run this command for us\n",
    "stdout, stderr = needle_cline()\n",
    "print (stdout+stderr)\n",
    "\n",
    "\n",
    "#### read output file (cant get the score)\n",
    "align = AlignIO.read(\"needle.txt\", \"emboss\")\n",
    "print align.get_alignment_length()"
   ]
  },
  {
   "cell_type": "code",
   "execution_count": 83,
   "metadata": {},
   "outputs": [
    {
     "name": "stdout",
     "output_type": "stream",
     "text": [
      "87\n"
     ]
    }
   ],
   "source": [
    "''' FASTQ format introduction '''\n",
    "\n",
    "from Bio import SeqIO\n",
    "\n",
    "\n",
    "#in_handle='input.txt'\n",
    "in_handle='../../Downloads/rosalind_tfsq.txt'\n",
    "\n",
    "count = SeqIO.convert(in_handle, 'fastq', 'output.txt', 'fasta')\n",
    "print count"
   ]
  },
  {
   "cell_type": "code",
   "execution_count": 111,
   "metadata": {},
   "outputs": [
    {
     "name": "stdout",
     "output_type": "stream",
     "text": [
      "34\n"
     ]
    }
   ],
   "source": [
    "''' Read Quality Distribution '''\n",
    "from Bio import SeqIO\n",
    "import numpy as np\n",
    "\n",
    "\n",
    "in_handle='../../Downloads/rosalind_phre.txt'\n",
    "#in_handle='input.txt'\n",
    "\n",
    "f=open(in_handle,'r')\n",
    "lines=f.read().splitlines()\n",
    "f.close()\n",
    "thr=float(lines[0])\n",
    "#print thr\n",
    "\n",
    "\n",
    "records = list(SeqIO.parse(in_handle, \"fastq\"))\n",
    "#print records\n",
    "avgqual=[]\n",
    "for record in records:\n",
    "    avg=np.mean(record.letter_annotations[\"phred_quality\"])\n",
    "    #print avg\n",
    "    avgqual+=[avg]\n",
    "#print avgqual    \n",
    "print len([n for n in avgqual if n<thr])"
   ]
  },
  {
   "cell_type": "code",
   "execution_count": 126,
   "metadata": {},
   "outputs": [
    {
     "name": "stdout",
     "output_type": "stream",
     "text": [
      "19.0 84.0\n",
      "57\n"
     ]
    }
   ],
   "source": [
    "''' Read Filtration by Quality '''\n",
    "from Bio import SeqIO\n",
    "import numpy as np\n",
    "\n",
    "\n",
    "in_handle='../../Downloads/rosalind_filt.txt'\n",
    "#in_handle='input.txt'\n",
    "\n",
    "f=open(in_handle,'r')\n",
    "lines=f.read().splitlines()\n",
    "f.close()\n",
    "thr=float(lines[0].split(' ')[0])\n",
    "perc=float(lines[0].split(' ')[1])\n",
    "print thr,perc\n",
    "\n",
    "\n",
    "records = list(SeqIO.parse(in_handle, \"fastq\"))\n",
    "#print records\n",
    "goodseq=0\n",
    "for record in records:\n",
    "    qual=record.letter_annotations[\"phred_quality\"]\n",
    "    qualgood=[n for n in qual if n>=thr]\n",
    "    pidentgood=float(len(qualgood))/len(qual)*100\n",
    "    if pidentgood>=perc:\n",
    "        goodseq+=1\n",
    "\n",
    "print goodseq   \n"
   ]
  },
  {
   "cell_type": "code",
   "execution_count": 170,
   "metadata": {},
   "outputs": [
    {
     "name": "stdout",
     "output_type": "stream",
     "text": [
      "6\n",
      "6\n"
     ]
    }
   ],
   "source": [
    "''' Complementing a Strand of DNA '''\n",
    "\n",
    "from Bio.Seq import Seq\n",
    "from Bio.Alphabet import IUPAC\n",
    "\n",
    "\n",
    "in_handle='../../Downloads/rosalind_rvco.txt'\n",
    "#in_handle='input.txt'\n",
    "\n",
    "records = list(SeqIO.parse(in_handle, \"fasta\"))\n",
    "#print records\n",
    "count=0\n",
    "for seq in records:\n",
    "    Seq=seq.seq\n",
    "    Rev=seq.reverse_complement().seq\n",
    "    #print Seq,Rev\n",
    "    if str(Seq) == str(Rev):\n",
    "        count+=1\n",
    "print count\n",
    "\n",
    "### rosalind solution\n",
    "\n",
    "print len([rec for rec in SeqIO.parse(in_handle, \"fasta\")\n",
    "           if str(rec.seq) == str(rec.reverse_complement().seq)])"
   ]
  },
  {
   "cell_type": "code",
   "execution_count": 186,
   "metadata": {},
   "outputs": [
    {
     "name": "stdout",
     "output_type": "stream",
     "text": [
      "26.0\n",
      "[29, 30, 37, 30, 31, 21, 27, 34, 27, 39, 37, 30, 27, 23, 20, 19, 23, 21, 33, 26, 23, 20, 25, 23, 19, 23, 23, 14, 17, 14]\n",
      "[29.0, 29.5, 32.0, 31.5, 31.399999999999999, 29.666666666666668, 29.285714285714285, 29.875, 29.555555555555557, 30.5, 31.09090909090909, 31.0, 30.692307692307693, 30.142857142857142, 29.466666666666665, 28.8125, 28.470588235294116, 28.055555555555557, 28.315789473684209, 28.199999999999999, 27.952380952380953, 27.59090909090909, 27.478260869565219, 27.291666666666668, 26.960000000000001, 26.807692307692307, 26.666666666666668, 26.214285714285715, 25.896551724137932]\n",
      "1\n",
      "[31, 41, 31, 39, 31, 29, 33, 24, 25, 33, 26, 27, 35, 28, 28, 25, 27, 26, 25, 11, 27, 25, 25, 30, 19, 21, 18, 12, 11, 11]\n",
      "[31.0, 36.0, 34.333333333333336, 35.5, 34.600000000000001, 33.666666666666664, 33.571428571428569, 32.375, 31.555555555555557, 31.699999999999999, 31.181818181818183, 30.833333333333332, 31.153846153846153, 30.928571428571427, 30.733333333333334, 30.375, 30.176470588235293, 29.944444444444443, 29.684210526315791, 28.75, 28.666666666666668, 28.5, 28.347826086956523, 28.416666666666668, 28.039999999999999, 27.76923076923077, 27.407407407407408, 26.857142857142858, 26.310344827586206]\n",
      "0\n",
      "[28, 23, 23, 26, 24, 24, 21, 18, 22, 31, 20, 11, 19, 21, 21, 19, 12, 21, 20, 8, 14, 30, 19, 12, 17, 10, 8, 3, 8, 3]\n",
      "[28.0, 25.5, 24.666666666666668, 25.0, 24.800000000000001, 24.666666666666668, 24.142857142857142, 23.375, 23.222222222222221, 24.0, 23.636363636363637, 22.583333333333332, 22.307692307692307, 22.214285714285715, 22.133333333333333, 21.9375, 21.352941176470587, 21.333333333333332, 21.263157894736842, 20.600000000000001, 20.285714285714285, 20.727272727272727, 20.652173913043477, 20.291666666666668, 20.16, 19.76923076923077, 19.333333333333332, 18.75, 18.379310344827587]\n",
      "28\n",
      "[27, 31, 33, 38, 36, 31, 23, 34, 24, 28, 33, 24, 25, 33, 27, 29, 29, 29, 22, 30, 33, 29, 22, 25, 15, 17, 10, 18, 18, 13]\n",
      "[27.0, 29.0, 30.333333333333332, 32.25, 33.0, 32.666666666666664, 31.285714285714285, 31.625, 30.777777777777779, 30.5, 30.727272727272727, 30.166666666666668, 29.76923076923077, 30.0, 29.800000000000001, 29.75, 29.705882352941178, 29.666666666666668, 29.263157894736842, 29.300000000000001, 29.476190476190474, 29.454545454545453, 29.130434782608695, 28.958333333333332, 28.399999999999999, 27.96153846153846, 27.296296296296298, 26.964285714285715, 26.655172413793103]\n",
      "0\n",
      "29\n"
     ]
    }
   ],
   "source": [
    "'''Base Quality Distribution'''\n",
    "\n",
    "from Bio import SeqIO\n",
    "import numpy as np\n",
    "\n",
    "\n",
    "in_handle='../../Downloads/rosalind_phre.txt'\n",
    "#in_handle='input.txt'\n",
    "\n",
    "f=open(in_handle,'r')\n",
    "lines=f.read().splitlines()\n",
    "f.close()\n",
    "thr=float(lines[0])\n",
    "print thr\n",
    "\n",
    "\n",
    "records = list(SeqIO.parse(in_handle, \"fastq\"))\n",
    "#print records\n",
    "toolow=0\n",
    "for record in records:\n",
    "    qual=record.letter_annotations[\"phred_quality\"]\n",
    "    #print qual\n",
    "    #print [np.mean(qual[:n]) for n in range(1,len(qual))]\n",
    "    meanqual=len([np.mean(qual[:n]) for n in range(1,len(qual)) if np.mean(qual[:n])<thr])\n",
    "    #print meanqual\n",
    "    toolow+=meanqual\n",
    "\n",
    "print toolow    \n"
   ]
  },
  {
   "cell_type": "code",
   "execution_count": null,
   "metadata": {
    "collapsed": true
   },
   "outputs": [],
   "source": []
  }
 ],
 "metadata": {
  "kernelspec": {
   "display_name": "Python 2",
   "language": "python",
   "name": "python2"
  },
  "language_info": {
   "codemirror_mode": {
    "name": "ipython",
    "version": 2
   },
   "file_extension": ".py",
   "mimetype": "text/x-python",
   "name": "python",
   "nbconvert_exporter": "python",
   "pygments_lexer": "ipython2",
   "version": "2.7.13"
  }
 },
 "nbformat": 4,
 "nbformat_minor": 1
}
