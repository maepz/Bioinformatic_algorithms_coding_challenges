{
 "cells": [
  {
   "cell_type": "code",
   "execution_count": 64,
   "metadata": {
    "collapsed": false
   },
   "outputs": [
    {
     "name": "stdout",
     "output_type": "stream",
     "text": [
      "BAAABBAABABBBAABAAAABABBBAABABBBBABABBABAAAABABBAA ['A', 'B']\n",
      "\n",
      "3.18778983218e-18\n"
     ]
    }
   ],
   "source": [
    "'''Solve the Probability of a Hidden Path Problem.'''\n",
    "import pandas as pd\n",
    "import numpy as np\n",
    "#file='input.txt'\n",
    "#file='input2.txt'\n",
    "#file='../../Downloads/dataset_11594_2.txt'\n",
    "file='../../Downloads/rosalind_ba10a.txt'\n",
    "\n",
    "f=open(file,'r')\n",
    "lines=f.read().splitlines()\n",
    "f.close()\n",
    "\n",
    "Pi=lines[0]\n",
    "#States=map(str,lines[2].split('\\t'))\n",
    "Trans=pd.read_csv(file, skiprows=4,header=0,sep='\\t',delimiter='\\s+',index_col=0)\n",
    "\n",
    "print Pi,States\n",
    "Trans= np.log10(Trans)\n",
    "#print len(Pi),Pi[49]\n",
    "\n",
    "prob=np.log10(0.5)\n",
    "for n in range(1,len(Pi)):\n",
    "    prev=Pi[n-1]\n",
    "    st=Pi[n]\n",
    "    prob+=Trans[st][prev]\n",
    "\n",
    "print    \n",
    "print 10**(prob)\n"
   ]
  },
  {
   "cell_type": "code",
   "execution_count": 1,
   "metadata": {
    "collapsed": false
   },
   "outputs": [
    {
     "ename": "TypeError",
     "evalue": "parser_f() got an unexpected keyword argument 'skiprooter'",
     "output_type": "error",
     "traceback": [
      "\u001b[0;31m---------------------------------------------------------------------------\u001b[0m",
      "\u001b[0;31mTypeError\u001b[0m                                 Traceback (most recent call last)",
      "\u001b[0;32m<ipython-input-1-da98975bd611>\u001b[0m in \u001b[0;36m<module>\u001b[0;34m()\u001b[0m\n\u001b[1;32m     15\u001b[0m \u001b[0mPi\u001b[0m\u001b[0;34m=\u001b[0m\u001b[0mlines\u001b[0m\u001b[0;34m[\u001b[0m\u001b[0;36m4\u001b[0m\u001b[0;34m]\u001b[0m\u001b[0;34m\u001b[0m\u001b[0m\n\u001b[1;32m     16\u001b[0m \u001b[0;31m#States=map(str,lines[6].split('\\t'))\u001b[0m\u001b[0;34m\u001b[0m\u001b[0;34m\u001b[0m\u001b[0m\n\u001b[0;32m---> 17\u001b[0;31m \u001b[0mEm\u001b[0m\u001b[0;34m=\u001b[0m\u001b[0mpd\u001b[0m\u001b[0;34m.\u001b[0m\u001b[0mread_csv\u001b[0m\u001b[0;34m(\u001b[0m\u001b[0mfile\u001b[0m\u001b[0;34m,\u001b[0m \u001b[0mskiprows\u001b[0m\u001b[0;34m=\u001b[0m\u001b[0;36m8\u001b[0m\u001b[0;34m,\u001b[0m\u001b[0mheader\u001b[0m\u001b[0;34m=\u001b[0m\u001b[0;36m0\u001b[0m\u001b[0;34m,\u001b[0m\u001b[0msep\u001b[0m\u001b[0;34m=\u001b[0m\u001b[0;34m'\\t'\u001b[0m\u001b[0;34m,\u001b[0m\u001b[0mdelimiter\u001b[0m\u001b[0;34m=\u001b[0m\u001b[0;34m'\\s+'\u001b[0m\u001b[0;34m,\u001b[0m\u001b[0mindex_col\u001b[0m\u001b[0;34m=\u001b[0m\u001b[0;36m0\u001b[0m\u001b[0;34m,\u001b[0m\u001b[0mskiprooter\u001b[0m\u001b[0;34m=\u001b[0m\u001b[0;36m10\u001b[0m\u001b[0;34m)\u001b[0m\u001b[0;34m\u001b[0m\u001b[0m\n\u001b[0m\u001b[1;32m     18\u001b[0m \u001b[0mEm\u001b[0m\u001b[0;34m=\u001b[0m\u001b[0mnp\u001b[0m\u001b[0;34m.\u001b[0m\u001b[0mlog10\u001b[0m\u001b[0;34m(\u001b[0m\u001b[0mEm\u001b[0m\u001b[0;34m)\u001b[0m\u001b[0;34m\u001b[0m\u001b[0m\n\u001b[1;32m     19\u001b[0m \u001b[0;31m#print Em\u001b[0m\u001b[0;34m\u001b[0m\u001b[0;34m\u001b[0m\u001b[0m\n",
      "\u001b[0;31mTypeError\u001b[0m: parser_f() got an unexpected keyword argument 'skiprooter'"
     ]
    }
   ],
   "source": [
    "'''Solve the Probability of an Outcome Given a Hidden Path Problem.'''\n",
    "\n",
    "import pandas as pd\n",
    "import numpy as np\n",
    "#file='input.txt'\n",
    "#file='../../Downloads/dataset_11594_4.txt'\n",
    "file='../../Downloads/rosalind_ba10b.txt'\n",
    "\n",
    "f=open(file,'r')\n",
    "lines=f.read().splitlines()\n",
    "f.close()\n",
    "\n",
    "x=lines[0]\n",
    "#alphabet=map(str,lines[2].split('\\t'))\n",
    "Pi=lines[4]\n",
    "#States=map(str,lines[6].split('\\t'))\n",
    "Em=pd.read_csv(file, skiprows=8,header=0,sep='\\t',delimiter='\\s+',index_col=0)\n",
    "Em=np.log10(Em)\n",
    "#print Em\n",
    "P=0\n",
    "#print Em[x[0]][Pi[0]]\n",
    "for n in range(len(x)):\n",
    "    P+=Em[x[n]][Pi[n]]\n",
    "print 10**(P)\n",
    "    "
   ]
  },
  {
   "cell_type": "code",
   "execution_count": 1,
   "metadata": {
    "collapsed": false
   },
   "outputs": [
    {
     "name": "stdout",
     "output_type": "stream",
     "text": [
      "yxxyyzxyzxzyxxyzxzyzyxxyzxxzyzxzxxyzzzzyyyxxyyxyzyyxyyxxzyyzxxzzxxxxxzxxyyzzyzxzyzzxzxyzyzzyxyxyxzyz ['x y z'] ['A', 'B', 'C']\n",
      "ACCBAACBAAAACCBAAAAAACCBACCBAAAACCBAAAAAAACCBACBAAACBACCBAAACCBACCCCCCCCBAAAAAAAAAAAACBAAAAAAACBAAAA\n"
     ]
    },
    {
     "name": "stderr",
     "output_type": "stream",
     "text": [
      "/Users/juniper_admin/anaconda/lib/python2.7/site-packages/IPython/kernel/__main__.py:20: ParserWarning: Falling back to the 'python' engine because the 'c' engine does not support skipfooter; you can avoid this warning by specifying engine='python'.\n"
     ]
    }
   ],
   "source": [
    "'''Implement the Viterbi algorithm solving the Decoding Problem.'''\n",
    "\n",
    "import pandas as pd\n",
    "import numpy as np\n",
    "#file='input.txt'\n",
    "#file='input2.txt'\n",
    "file='../../Downloads/dataset_11594_6.txt'\n",
    "#file='../../Downloads/rosalind_ba10c.txt'\n",
    "\n",
    "f=open(file,'r')\n",
    "lines=f.read().splitlines()\n",
    "f.close()\n",
    "\n",
    "x=lines[0]\n",
    "for l in range(6,len(lines)):\n",
    "    if lines[l][0]=='-':\n",
    "        break\n",
    "alp=map(str,lines[2].split('\\t'))\n",
    "st=map(str,lines[4].split(' '))\n",
    "Trans=pd.read_csv(file, skiprows=6,header=0,sep='\\t',delimiter='\\s+',index_col=0,skipfooter=4)\n",
    "Trans=np.log10(Trans)\n",
    "\n",
    "print x,alp,st\n",
    "\n",
    "#print Trans\n",
    "#print\n",
    "Em=pd.read_csv(file, skiprows=l+1,header=0,sep='\\t',delimiter='\\s+',index_col=0)\n",
    "Em=np.log10(Em)\n",
    "#print Em\n",
    "#print\n",
    "\n",
    "\n",
    "\n",
    "Pi={}\n",
    "Backtrack={}\n",
    "\n",
    "\n",
    "Pi[0]={}\n",
    "[Pi[0].update({st[n]:np.log10(0.5)+Em[x[0]][st[n]]}) for n in range(len(st))]\n",
    "\n",
    "\n",
    "for n in range(1,len(x)):\n",
    "    Pi[n]={}\n",
    "    [Pi[n].update({st[i]:max([Pi[n-1][st[j]]+Em[x[n]][st[i]]+Trans[st[i]][st[j]] for j in range(len(st))])})\\\n",
    "                   for i in range(len(st))]\n",
    "    Backtrack[n]={}\n",
    "    for i in range(len(st)):\n",
    "        for j in range(len(st)):\n",
    "            if Pi[n-1][st[j]]+Em[x[n]][st[i]]+Trans[st[i]][st[j]] == Pi[n][st[i]]:\n",
    "                Backtrack[n].update({st[i]:st[j]})\n",
    "    \n",
    "pi_string=[]\n",
    "good_state=[k for k,v in Pi[len(x)-1].items() if v==max(Pi[len(x)-1].values())][0]\n",
    "pi_string=good_state\n",
    "for n in reversed(range(1,len(x))):\n",
    "    new_state=Backtrack[n][good_state]\n",
    "    pi_string+=new_state\n",
    "    good_state=new_state\n",
    "print pi_string[::-1]"
   ]
  },
  {
   "cell_type": "code",
   "execution_count": 46,
   "metadata": {
    "collapsed": false
   },
   "outputs": [
    {
     "name": "stdout",
     "output_type": "stream",
     "text": [
      "3.59084705773e-48\n"
     ]
    }
   ],
   "source": [
    "'''Solve the Outcome Likelihood Problem.'''\n",
    "\n",
    "import pandas as pd\n",
    "import numpy as np\n",
    "#file='input.txt'\n",
    "#file='input2.txt'\n",
    "#file='../../Downloads/dataset_11594_8.txt'\n",
    "file='../../Downloads/rosalind_ba10d.txt'\n",
    "\n",
    "f=open(file,'r')\n",
    "lines=f.read().splitlines()\n",
    "f.close()\n",
    "\n",
    "x=lines[0]\n",
    "for l in range(6,len(lines)):\n",
    "    if lines[l][0]=='-':\n",
    "        break\n",
    "#alp=map(str,lines[2].split('\\t'))\n",
    "st=map(str,lines[4].split('\\t'))\n",
    "Trans=pd.read_csv(file, skiprows=6,header=0,sep='\\t',delimiter='\\s+',index_col=0,skipfooter=4)\n",
    "Trans=np.log10(Trans)\n",
    "\n",
    "#print x\n",
    "\n",
    "#print Trans\n",
    "#print\n",
    "Em=pd.read_csv(file, skiprows=l+1,header=0,sep='\\t',delimiter='\\s+',index_col=0)\n",
    "Em=np.log10(Em)\n",
    "#print Em\n",
    "#print\n",
    "Fw={}\n",
    "\n",
    "Fw[0]={}\n",
    "[Fw[0].update({st[n]:np.log10(0.5)+Em[x[0]][st[n]]}) for n in range(len(st))]\n",
    "\n",
    "\n",
    "for n in range(1,len(x)):\n",
    "    Fw[n]={}\n",
    "    [Fw[n].update({st[i]:np.log10(sum([10**(Fw[n-1][st[j]]+Em[x[n]][st[i]]+Trans[st[i]][st[j]]) for j in range(len(st))]))})\\\n",
    "                   for i in range(len(st))]\n",
    "\n",
    "Prx=sum([10**val for val in Fw[len(x)-1].values()])\n",
    "print Prx\n",
    "\n"
   ]
  }
 ],
 "metadata": {
  "kernelspec": {
   "display_name": "Python 2",
   "language": "python",
   "name": "python2"
  },
  "language_info": {
   "codemirror_mode": {
    "name": "ipython",
    "version": 2
   },
   "file_extension": ".py",
   "mimetype": "text/x-python",
   "name": "python",
   "nbconvert_exporter": "python",
   "pygments_lexer": "ipython2",
   "version": "2.7.13"
  }
 },
 "nbformat": 4,
 "nbformat_minor": 0
}
