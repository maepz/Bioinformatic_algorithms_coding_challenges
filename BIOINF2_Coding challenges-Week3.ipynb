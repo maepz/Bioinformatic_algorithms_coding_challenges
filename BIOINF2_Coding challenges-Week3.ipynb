{
 "cells": [
  {
   "cell_type": "code",
   "execution_count": 72,
   "metadata": {
    "collapsed": false
   },
   "outputs": [
    {
     "name": "stdout",
     "output_type": "stream",
     "text": [
      "MVQARMGAVTSLYGLLSLYDVSLRAGLLSLGRPPWQALWHCTDPLATHTTMIGPVSAPTWWRPTAIDGMERSYQTFSTKLGSETKERRARKLFFRTNTSWYAGAPYRSVHTGHPFELPNTSHPEYTNSNYVVPNATSDYRYRDVQTYLIRHTLPSSIYRAACWRMPGVFSLDEAPYLEPNSRRQRPSDRIDRSRRSYGHIFAQHVGFRDESANVDGRPKTRHLSVSGVRHLIHLEHKRIPCGSGSRQKFKVRRVNPLRDRDLNHELHSVTCMPTPGCNRAPLMSCYVSVPGHFEQNSSVTAHNLRYRSRCMATHAHCFAECVNTTYRVEIPSLRLRGLVEQARGQTLRTMCRDWCCLHFLRISDVPYEPAVVIGLDCASEDDGDSGDLVASSVTELLCLYLPTSLGVMTSETVRFRLLFKSCTPSRFDRSFFRPQLLNCISRTTLRMGGIEEPRMTPMYRIKTVTKSSHRPRRSSICHLLIDSRASGMALCVRGASRFVAKPRTCDNGLGDHKSTPRVMCPAQPVRLGSGTCPLTGCVVLSASLLVALRNVLWIAVRHPSHSYKFEGGWNEATVAKRWWRLCSDRNCEKNFWRALIAAGRAFNTRVLITKRLELYAESHIVKAFLTHSIGVRTPTLRALCGVEPLTDLLHITPKTSSEAHECQFVLRKCDPKLRPSCVSLLDIHPLYHRTTDMLCSNFNVLTYMECQFERVRQDVYQGTGDYLSYHKTRKETLFKTPMGLKMVACISKPNQVVSPTGGSGSSKEHERARRRCIRKKKGVSRAAHGMGTKLWLSFTQSVLVHHLSRRECLGRISLYDLTYPQQSGAPKLFPWGCLESRSSLTRSPKLPSRAHSKWGRRREAKNISICLRYDSSNLVSMLRCVRIPCANGVSATLNRHKQNNQLGVERALHCRIATGIHLGRAVVTADRVYFPVHSTAFESASRIFAISLPVAVYYGVNSPERMILANRAGVVRKNTKSRRSFYAEEASITECCCLCPCMRRWLAAPHARYRRIGSGEVKLELYRPPPKLSRPIINGQLLVPAENELYLTIGLDKLEGMSTNSGSRHNVMDRVYVQQVLPISYFYTESVSFAGNQAEGRRELGTLSPSIQQTCLLCVSSHISPLTLTPTFTSSVNCIIFPELHIACQRQYSYINSRRRHIPMPTSSSRRSWQIMVERCVFLAIVGERNRRTDERLTSSHAALSLQPSLPDTGRGQILPPCATRLTSVNMSAINDNEYFVTFTLRSIYKSATLTPPQSHSSEHLGRPEVCRLHHSVTHTAAYNESNTAILLRDTGGEITCVVGAVRMTTGLYLPFTTMALPFGLLVFTRATDLWWADCPDRPGSYHSPNWYPVTEIERLLGRRTRRQTTARPSLSYNYTECVYLLSHVKDVLFTPSMCRDARGLVHPGQSSASRDYETCLRMLRIVTRHSTSAERQRSRDRPLEKERRWEKPHCHFRVKVHHDCTVMRNESCLRTIGARFLSRHGGAWALEDPSLSFEVHNTGPTLRRFTKSSVPISMALYHTQRLSRQKGSPCEMHGNRGASIWFRSPTHFKVCRCRLHSRISMNQDASCKQFMLANAAPARCIWLDMHQVGHWLRVLAARILRERCRSHTLVFACCPKPGYGISPEGCSLLVLHPTTTSGQVSQRMQLSESTYPSRERSEICGMFTVDLDLQWAYSYMTKLFRCRYFARHRKSIISCQFLVTVGSLTFWSPSSCKFSTQRPRPCAVYRGYPSNYGTPIYLDEHCAKILPCWAGESPAPLRYRRHRPGQILQLRIEAEAHFAVMALTSCTTVWACNTDGGASIRLESQSTETHLYVSFSCGELTSQGTLHTVIRLYIFRYNALVTEPTPVFRVQIPPCSELFAEAKVAKTPDTFYVVGRTRIRDPSDVASIIALVRSLGCNGCRPPINGTWRWRRLVTMLGFYHLNKSGQPQFRRPLWTRELVPAHITHIRSSNRAGVSLTERIPSHSNGLTGHFVFRPSRTYDYPPHIGKMVTFHHKEHAVELFVPCAVGKQEINYPVAVQKLVRINFPPLDHVGIIQGLKSRTNVICNQRTVTARSCRAAGITPALKASRLPEVFARSPINFRLENRSKRRMARVMTTDYTLFNMEAALWRALIPLRKSALLRLGTATKVSSPNVICTGLRLFNAPLELFLPMQVLYAGPSHEIFDCLVIGRHTNTLSVVMVNYHFLAFTRKRAGSTPSLLASGTKANLPRGPRYGWSLTNTRISCHERRSYALLYLTVELQLVEIRRNLVPLGEAGSGRTCVKTRPLAIVRQPQAHSFATERVGPSLDTICDFHFHTKGLKGCPEPGFASSCRLTATRSDGEQPPPVSFTYSRKVSIGAFTGHADSIENRPTIALRPVRGEDVVQTKYSTLLTNSIPSLDVLGVAPAAHTLRTIALQVLSGVMEQKTPIYRALAKLEKPRNRSKKKRRRRIHGNNPVAPFSAAFPAGFDYSVLRWRLVHVACFSSSVSTLLLLIGHIEASESYRQIRYYGLTDRVDYGVGSGSTLSATVRILRHEARSSISLCMRLYHSCDADGASSNYCRPTPFEDNCNPLQDCYIELAIQVARVSPTDQLWTTASLRSSCNRACITRYASNATSHESVGAGNPQFCVGCSSVCRAVETNLLNPRWNLTTLQTQESERVCYRNGSNALRPSNAFCVKEGTPPIGPLAAAKVGIRQKVSGHVPYTGDPRSRREHGVSRLSGEGWFHVYESSARRSFGKIAQAWLLYVRWLHSEVARIQYDTEMIRPIGHIIISLVFAHNLGSSHFQDTLLRLNSPCRGFLLASRYPIASGSLCFRKSISTEDSDRVALNTKVTIGFFDWRGRYTRLESLDDTAGLVPLSLSCKSCSETITSSLRKFDVIKRLVDYGLNSHIRVSFRRNQYGHDHSAATFNLLGRNSMRQVLQHNNKWRADLIIEAYRRLYPPVYCSVAIGLRKGNPPRNYWHPRHNQLHIRVALALLTAETSSREEHPAAIPYDTKGTWSCNSSVLDLTMNICAKSRGPVRIVPWVAVVRNRSQGSYTGILPLDVFLYPAHRMHRRRVVRVAFVERLPIWRGGLKQRLSRSYAPWRLLQPAKEFRLCRQTRPSETVSFIRSAENDLPLLIQYPGPVRNLSAWTGRATVNYDQYTLVIAGSYKRSTTSLKKIRLYTILPTLTGRRLIFCLWAPRNSRTSIAASSCPSAPRPPRIPHDTVYPDSLNYAGWEAQVQ\n"
     ]
    }
   ],
   "source": [
    "''' The following problem asks you to find the translation of an RNA string into an amino acid string.\n",
    "\n",
    "Protein Translation Problem: Translate an RNA string into an amino acid string.\n",
    "     Input: An RNA string Pattern and the array GeneticCode.\n",
    "     Output: The translation of Pattern into an amino acid string Peptide.'''\n",
    "\n",
    "''' IMPORT GENETIC CODE '''\n",
    "\n",
    "\n",
    "f=open('GeneticCode.txt','r')\n",
    "lines=f.read().splitlines()\n",
    "f.close()\n",
    "GeneticCode={}\n",
    "#print lines\n",
    "for line in lines:\n",
    "    GeneticCode[line.split(' ')[0]]=line.split(' ')[1]\n",
    "\n",
    "''' RAW '''    \n",
    "f=open('../../Downloads/rosalind_ba4a.txt','r')\n",
    "lines=lines=f.read().splitlines()\n",
    "f.close()\n",
    "RNA=lines[0]\n",
    "#RNA='AUGCCCAUGGGAUUAGUGUGGCACAAACAAGGACCACUAGAAAGGAUAUCUAUAAGAGGAGUAAUAGGAGUUAGGAGCGGGUAUAACGAAACCAUUCGAAGGAAUUGGGUCAUGUUAGUAAGUAAAAGCGCCUUAUUCGUAUCCACAUGCUGCCAAUGUAACCCCCCUUACCUGACUUGUUAUAAGCAGUUGAAGAGUCCAGACGUGACACGUUUUGCGCGCGCUCAUGACAUGGAUCAUUUUAGAGACCACACUCAUAUGGCUGGGAGGACCAACUUGGAACAAACGUUUUGUGCUCAACCCGUACAUCUGACUAUGGACCUAGAGUAUUAUCAGGACCCUCCAGUGGCUUAUGUACUACAGUACAUGGUGCCGAGGCGAAUGCCAGCUCUGUCAGUAAUCACGAAUCCUCCCAACCAAGAAUUGCAUUCACUCUGGUCAUAUCUGCAUUUGUCGGUUAGUCAAAUCUCUCGGGGGCGUCUAACUUGCGUGACGCUGCUACUAGUGAUCUGGGACAACCAUUUAUUACGGUACUCCUAUCUUUGCCAGGCCUUCGAAAUGGUUAUGAGCUCGAACAUCCGCUCCUUGGGAGCUGAGACGUUAAAGGUGUUAACAGAUCCGAAUAGAGAGUGCGCUUCGGUCACCAUCCCACAUCUCACUCAGCAAUCCGCUCUGAGUAUUAGAGCACCCCCCAGGUACCUUCACACUGAAUUACGGCGUUGUAGAACAUCUUUAGCACGGACGACCCUUCGGUUCGUGUCCAGUUGUACCUCUCGAUUUGGUGCUUCGAUUCCGAGCUUUCAUGAACUCUACUGCUCGCUAUACACAGGGCUCUCCUUCGUUCAUAUAUCUCGAUCAAUUAAGAACGCGGUUGAUCAAACAUGCGGCAAACCUAUCGACAAUACUCAGAUUGUGAUAAGCUUCCAGAGCUCUCGUCUCCAUCGAUGCAGUCUCAUAGCUCGUCUACAGGCCGACCGUACUUUCUUCCUUUAUAAGCGAGGGUGGUGCCGGGGCGUGUGCUCUAUAGUUAUAUACUUGACCGGGAUCUGCUACGUCAAACUGUGUUGUUACGCUACGGGCAUUAGCACCGUUAGCGACAGCUAUAAACCAAGGGGUUACGUUCAUCUUCAGGUAUUUCUCUUCCGACACGUGACUGUGUACGUAAUUCGUACAUAUGAGAAUUCAGUUACCGGGGCUUCACGAUAUCAAGCGGACUACAUCAUGGGGCGCGACUUACCUACUCUCGUAGAUAGUUUGCCAGUGGUGUCGUAUAGUUGGAACCAGUACCUGCUUCUAGUCUGUGGACCACGUCGGGGAGACCUCUUAUGGCCCCUAUUAGGCAGGGAUCCAACAGUUAAAUUUAAACCGCGGACCUACCGUCAACGGAGGAGUUUUACAGCUUUCAUGACGCGGAAGUGCGUUUCACUAUGGGCGCAAUUGACAGCUCGCCGUCGGACAAGCCGCAAAUUAAUUCGGGCACUAACUCACGGGUGGAAAAUGCGAAUGUCAAGACACGCAGUGGUCUAUACAGGCAUAGAGGGGAUCCUCGGGUCGAAAACAGAGUUAACGGUCCCAACUCAUCCGCUGUACAUCUUGCUCCCGUGCUCGGGUCCAAGUUGCGUGCUCAUGACUGGGGUCCGACCAUUUUGGUCUUCGUCCCAAGAUAGUCGUUGGUCAACAACCAUCAGGCCGGAGGGUGGUGUACUGAGCGUAAGUUGCAGACAGAUAGCCAAUAGCACCUUCUCGGUGCUCGAGUCAUUAGGUCUCUUUAUAGAAGUUCGGCACGGCCACGGGAAAAUCCCGCUCUACCGUAGCUCCACCUGUAGUAAUUGUUCACAUGUCUGUCAGUCUAAUGAGUGGACAGCGUGGUUCUUGAACUCCCCUGCGGCCGGGCCGAACCAGUGCCAAAUUGUUUAUAAUACGAAAUACUGUAUUGCAGGGUACGCCCCGAGCCCGUUACUAAGCACAGCCCGCGCAGCGAGUUAUCGAUAUAAAUGCUCGUGGUACUUCCUUCUUCUCUUUUUGACGUGUUCCCUCAUCUCGGGGCAAUUCUUGGAACCGGGGAUUAUGAAGUGUGCACUGGGCAUGCUAAAGGUAGGCUCGGAAUGCAAUCUCGAUGAACCGCACGUUAGUUCCACCGCGGGUUACCACGGCCACGUGAACACCCUCUGUUGCAUUAUUGCAGUUAGCCCGCCGCUAAGCCUGCGGGUUAAAAGACCGGCGGGGAGAGUUGUCUUCGAAAUAGGUCCCGCAUGUGAUCAGGACGGUGGUCAACUUGCGUCAAAUAUAGUGAUAACUCGUAAUCCGACUGGGUGGCACCCAUGGACUUCCCGAGUCAGCGCCCUUACCAUACGCUCACUACAAUGCCCACAGUGUGUGAACGAAGGCUGGCACUGGUCGCACCCUGAGCCAGGACAUAUGGGACGAUACUUGCACCCAAACUCAAUCCCUUACGAAGCCUGCGUCUCUACCUAUACAAUUGCCGAAAAAUUCUCGGUUCAUUUUAGUACCCGGAGCAUUGACUGGGAGUGCCCGGUCCGAAUACUCGCGACGUACACAAGACAGCUGGAGUUGCGUUGCCUUACCGGAACGUGCUUUUCCUACUGGAAUACCCCAAAGAUUCCUACGGUAACACCCCAUGUAGCACGGAAAUCUAAGGAGACUGACCGAAACGCCUCGAUUCAGCCCCCGAUGGCUGCUACGGUACCAGCAACAGGCUUAUCGAAGCAAUGGAUUGUCAUCCAAUCUUCCAGGGAUCUCCGGACUGACGAUGAGAUGGAUACCACCUUUCAGACACAUCGGUAUGGCUUCGGAAUAUCAACAACGGAGUGCUACACUCUACCGAGCCUAUACUCUGCCCCAAAGAGUAGAAAUACCCACACUUGUCACGCAUCGCCUUCCAACGAUAGUUGGUCCUGCUUCAAGCUCUGUGGAGUAAGUAUACGUGAUAGGAAAAGACGAGUCUGGACUGCUUCGCGAUGUAAUGACCUAGCGUCAGAAAAGGGUGGCCGGCAUGGUACACCACCCACAAGAAUCCCACCGUCGUUGCCUAGAAAAACGACACAGACUGGUGCAGCGAACCUAGCUUACUGGUCCCAGUUCAUUAACGGCGACAAAUCGCCGGAUGGCUAUACUAAGCAUGUUGGCACGGACGCCAUAUAUGCAGCGCGUGUUCAAGCGCACAGCCUGACGUGCUCCCGGCUAUCCAGAAUUGUGUGUAGUGGAUCCGCCGUGGGUUGGGAUGGAGACGAUUUUCGUGAGUCGGACGUUGACCGAGAAUGCGAGGUUACGAGUGGCCCAAGGCCCCAGAGAUUUUGUAUUUACAUCAUGUCCUCCGUUUCGACCGACGGUGGAGUAUGUCGAAAGAUCUGGAUAUUCCACCUCUUAUCCAAUUCAUGUAGGAGCUUGUUUUCCCCGUCAUCAGAUAGGGAACAGAAGCUCGGAAUAAUGGCGCAGGCAGAGGUGUUCUGUCACGCCCUCUCAAAAUUUCUGUUUCGGUUGUGUUCUAUUUCAUCGCUCAGGGCGCUCAGUUCUUAUCCCAGAUCGGGGCGAGUUCUCUCUAUUGUGACAAACAUACCGCAGUGGGACAGCCGCCCUAGGCUACGAAUUGACUACCAUCAAUUUACACCAAUUUUUCAUAACCCGCCAGGUAAACUCCUGCAGCCUAACGAUACGUGCCUGGGCUGUUCAAACUGCCUCCAGAGCUCGCCUCUGCUUUUUACCCGGGCAGGUCUUUUGGGCCUAUUCAGAACCAUGGCCCCUAUAACAUACGGCUGCAUGACUCGCUCUGCUUGGUCUUCGUUACAGCGUGGAGGGCCACUCGACGUUAUCCUCUCUACGUCGAGAGCUACCCUAUUCAAGCGGUGUGUAAGAUCACGAUUCAGAAAUCCAUGUGGUAUUAAUGUUCUCACAAACUUUCACGAACCGCGAGCACUUCUAUUUAGCGCUCCACGCGGGAAUCCGAGCUAUACGGUCAUGUUCGCCAGUACGGCAGCCACGUGCGAGCGCCUGGCGUUAGCACGUCAUCGUACUUAUUCCCGAUUCCUCUUUGAACGUACUAGAAAACAUGCGCUGAAAGGGAGAACAAGUGAUCAAGACGGCCUAAGUGCCGGUGUCACGUGGAAGGGCGUGAAUUCUGGCCGGUACCUUUAUAGCACGUGUCGUCAUGGGCUGCGCAGGUUGAUCCGGACGAUGAUGAAGCAAAUUGGAAGACUAUUUUAUAGAACGAGGUGCACGCUUCUCGUCCACAGAGACCCUGGCGCGGAACACUACCUUAGUACGCCAAUAGUAAAGCAAGGACGCGGCUACCACCGGCGUACACGACUUCCAUUUCUGCUUUUUUACGACCAAUGCCCAGCGCGCGGAGUGCCGCUAUUAGUACGCUUAGUGACCAAUGCUUUAUCGCCUUAUAUUACCAUGUCAUAUGCAUGUCAGACUUGCAACAGAGCCCAGGAGAGCGUCAGCCUAUUACCGAGUACAUGUGCUUACCCCUACCGGUCAAUCAAUUCCGAUCCUGUUGGAGCUUGGAAAGUGGGCUCCCUAAAUACGCACUACAUUUGUAAGUUACCCAAGGUAUCACCGCCGAGAUGGGCAAGCUCACAGCAUAUCGCGAGCACAGUCGUUAGAAGCGAUACCCAUAGUAGAGACGAGUCGAUCAAUGGACAUGGCAGGCUUAAAGUUGCAAUCAUUGUUUGUAGGGUAACCGCAAGAAGUGUAGCAGAAGUCGGAGGUUACUGGAAAAAAAGACACAGGAGUCCACGAAGUAUAUUUGAUAUGAAAAAUAGAGACACUUGGCACGAUGGUGGGCGCGGCCCUACAUCAUCGUCGGACCAUUAUUAUCCCAUAACAGGCAUUCCUGUUCUCAGUACUCCCUCCCGGAGGCCUCAAGCUCGGCUCACCAUUAAAUCGUCAUCAAUUUGGGCUUAUCGAGAUCAACCGAUGCUCACACAGCCAUGCAUUACGUACCCGGUACUGCUCUUGCAAUGGGCCGUAGCUUCGCGAAUGAGUGCAAUAUCUGGCAUUCGGCUUGCGGGUCUGUGGGGAGCAGCUAAUGCACCAGUCCAACUCUUCCUCUACCUCAGUCAGUGCGCACACUUAGGAACUUAUUGUGUAUAUCACGAAAUGGGCCCAAUGUAUAUGGUUCUACCAAACCAACGGCGACUGCGACGCUUUAGUCUUGGAGGACAGAUUCUAUGUUACCCCUUCAGGACGACUUACAGUCGGGCUGUCGUUAGGCCUUAUCCUGAUACGCCGCAUGGUUACAGCGGUAACGGCGUAAACACCGGCUUCCUAAGACGCUGGCCUGGACCUGUCCCGUGUCUGUGGGUUAAGGGUGUUGCCCACCACGCGUCUAAGCUACGGUGGAAGACACUUGCUUGUACUGCGUUAUCCCUGCCUGCCCUACCUAGUCACCCUGGAUUAUUGAAAAGCCUUCUCAAAAGAGGCGAAGUGAAAAAACUGGAGGCAGCUCGCACCGUCUUGCGAGCUUUACAACCGCACCGAACAAAUGGCGGAUAUACUAAGGAACUCGGUCAGGAGGAGGAGCACUGGUUCAGGUACUCAUUCGGAGGUACGAUCGGGGCCUUGUACGAUCGUAAGGUUGCUGUGUGGUACCGCAGCUCACAGGUAAUCUACAAUGGUCCUAUUUAUCGUCUAGUACAGGAGCCGAGUUGCGCCUCUCCGAUCACCUUAUUCAGCCGAGUACUACUUAAUGUUGUAUCUUAUCUAGAGAUAACGGUUAAACGACAUCUGUUCACACCAAACACCAUCCCCGGACGAGGCCUUUCUCAUCGAAAGGGGGCAUUAUUUUUCCUAAUACCACCCUAUCCAAGCUCGUUCGAAUUAAUAAGAAAACCCUACCGCCGCACACAGCCUGCUUUUCCGGGAUCCCUAGGCGAUGAUCCCUUGCUCCCCUGUAUCUGUCGGUCUAAACUGCGACUCAGACGGAUAACUGUGUAUGGUUCAAGCCGGCCAGUUGAAGACGUGGGAACCACGGAGUCUAGAUGUCCAAAAACAUUUUACUCUCUCCCGCUCGCGCUGUGUUGGUGCCGGAGUACGGGGGUGGGCAUCUACGGCUAUCUGGAACCGGACUACCCGUAUUAUACGAGGCGCGCCCCCGCCAUACCAAUUUGGAGACACCCUGUAUAUCGCGCUUUCGUACAGUUAACGUUAGCGCAGGCGACGGUACCCGGGCCGAAGCCGUUUUUAUUGCUACCCGUGGGCACCGGACCGUUUAUAAAAAUUUUCGGCCGCCACGGUUUUGCAGUUUUAGCUGCCGUACGAUAUUGUACGCUGUGCUCGGACCCUAUACGGGGACCCGACAGCCGACUUAGCCUAGUAACAGAGAGUGCUCGCCAGGUUCUCACUCCGGUCGAGUAUACCGAUCUGCAACUGUGUUCACUGGGGAGCAUUCAAAAGUCAAAACGGCUCUCAAGACUAUCCCUAACCAAAUUUGAUGAAUUAGCCGCCCGAACAAAUGCUCGGUUCGUGCGUCCCGUAGGAUAUCAACAGGUUAAGCCCCGGGUGAUUGAAACUGAAACUCCUUAUAGGACGUAUCGGCCAAACCCGCCUACAGAUGUAGACGAGGAGCACAAACAUCGUUUACUAGCUGUCAAAAGAUACAUAGGUUUCAGAGGGACACUGUCGGACAGACCCCAGGCGGCGCUCAUUAAAGGUGAAUGCAAGGCCAGCAGGUCGGGGCAUCUUCUUGAAAUUCAUAGAGGAUCAGAGAGACUUGAUUGCCGUAUCACGCUAACGCUACUUAAGGACCCACUUGGCUACUUUUACGGAGUGGACAGUCAGCCACCGGCGGUGCAUUUGAGUUACGACGCGUUCUCGCAACUCAUCAAAAACAGAUGUUUUAGAAAUUACAAGUCGCGAGCUUUCCAAGGCACAAAUGUAGCACGAAAAUCAAUAUGGGAUCGGUCAAGUGACCCUGGUUUGAGGGAGCCAUUGUGUUGGACACUAGACAAGCGCUGGGCCAAGUACACACAUCAACCUCAACCCUGCCAGCCGGUUCCCACCUCCAAUGUAUUUGAAUGCAGGCGUGGCCAAACCGAGGUACGACAUAACGCGUUGGUCUAUAGUCCAACCUUCGCGAAUUUUCGUGUAUCAGCGGACAGUACUGUCUUACUUCCAGCCACCGGGUCAUUAAUCGUUCCAUCUGGAAGGUCCGAGCGUAACCCGGAUUAUCACGCGCCGUGCUCUUUAUGUCCCAACCUCAACUCUGGUUUGCCGGGUAGGAUAGUAGGGACGCCUCGAACCGACAAGCGGCGGGCCGUCACGCAACUCAGGGUGUCCGAAGCAAGUUGCCCUCAGCGGAAUAGAUCGCCUGACUCGUGCGCACUAGGUAAAUGCCCGCUUCCGUUAGAUAACUCUACAAGCCGAUUUUGCGGCCCUUGCGCACAUUAUUCAGACCUAACCACAUUUUUACGGCUCUUAUUCUCACAGACUUCGCCCGAUGGCAGGUUUUUCCAUCAGAUAAUAGCGGUACUCAAAGUGGGUAAAUGCAUUAGAGCUACUGCAGCAUUGAACCCCGCCUCGUACCUUGCCAGCCGUGCUGCACAGUCUGGAAAUAUUGUGGAAGGUCAUCGGGGACCGAUUUUAAGCAGGAGCAUGCUAGUAAAGCGAAACUGGCGUUGUCACGGGUCCUUACCAUGCAAUAGGACGACGGGAGAAACACUUACGAUAUUAGGCAUAAUGUACGGAUCCGUGGGUGGCUCCAGAAUAUUACAAGCAGUAGUGCAUUCGGUGGCUAGACGCGCCCCGCAGGCGACCGAUGGUUUUGGGCAUUUGCUGACCAAACCGUUCGUCAGAGCCAGAACAUCAGAAGAGGAUAAAGGGUGGGUGGUGACUUCUAUAUUCCCUCGACGGAACGCCUAUGACCCACUCGGUAAAGUGGGCCCAACAUGGCGUACGCCCGGCUAUCGCAUGAUACCUCAAGCAGAUAAGUGGGGGAUCGGACCGACUAACGGUGAUACAGCCAACUGCGUAGGCGGGUGCCUCAGGGUAAUUUGCCCGUCCAGGGCAUCGAAGCAUCACGCAGCAAUAUGCUUAUCCGGCACAAGCUUCGCACGUGUGGGAAAAGGAAGAGAGGAAAAAGUCCGUCAUACGGAGUCCCAAGCGUGGACACGCUUUAAUCUGGGUAAUGCGAGGCGAGGUGGGGUGGACCAGAUUUUACGGAAAUUAACCAUCGAUAGGGGUGGGCUACGUGGGCACGCGAGGAUAAGUACGAAAUACCGGCCCCGCCUACAGAGGAAUGCCACAAUGGCCGGGAAGGAUACCCGACAUUAUUUGAGUGCUUUCAAGUUCGAACUUGCCACGCGAGCGUACAGAUCGGCGCUAAUUCUCUGGGAACUUAUCCAGAGGAGUACUAGAACGCUGGCUUAUUCUACGGGGCGGAUUGAACUCCCAACAACAGUGCCCCACUCUUCGCCCGGUGUUGUGCUAUUAGGAGUAGUGAAUUUAAGAGGAGAAGCCACACAGCAUGCCCUAUUCUCCUAUCUGGAUUCUACUACGCCCUAUGAGUGCUUAGACAUAGCCCCCAAUAGCUGGUUCACGUCCGAGUCAUCCUGGCCACGUAGCGAUGCAAUACUAUCAUACCGGUUGGUUAAUGACCCGGCUGAACUUCUUAGUGCAGGGCCAUCAACGCUAUCACACCCGCUCUGCGGAUCCAUCGGCCGCUCCUUAACACGAGGAGACAGAUUAACGAAGGACUACUACGUAGUACACAAUUUGAGCUCCUCGCUUACGCGAUUGGACCGUCAUAGUUCAGCGACGCGCAGCUUGCGACCAUGCCUGUGGGUCACAACAGAAAAUACAAUUUAUCUUCAGAGGACCUGUUUCUAUUCUGAUUGGGAUUGUAUGCGGUGCCUUUCAGACAAGGGAGGCUACGAUGGCAAUUAUUCGAGGGUAACCGCUUAUCACUAUUGUCGGCCAAAAGUUCACGAUGAGGCUACAGUGUUAUACAAACUUAAGGGUACCCCCAUACGAUUUGGUCCGGCACACAACCACAGAGGUGCCUUAGCUCUUCGUCCUGUUGAAACCACCCCCCUGAGGACAUCUCCUGAAUAUGUGGAACACCCUUACGACGAGGAGUCUAAUACAGGUCGGGGGGCAGCUCGGCAGGAAGGGCUCGAAGUUCAGCUCAUUGCAGGCCAGUACGACGCUUGGCAAUGUAUGGAUAACUGGACGGUUCACAUCAGUCGACUAUGUACCGGGGUACAGUCCCCACCGUUGGCUCGUAGAGUGUCCUAUUUAGGAAUCAGUCCGGACAUUUGGGGCCAUAGUUUUAGUUUCCGCUACACUUGGCCCUUCAAAAGCUCGACCGGGGCGAUUGAUUGGCGCCACGGGUUGUACUCCUUCCUGUCUACCUUAAUAAUCGGUUGCUGCUCACGAGCUCUGACUGAGAGAUCACGUCGAGGACCAGCCCGUUAA'\n",
    "n=0\n",
    "prot=''\n",
    "while n < len(RNA):\n",
    "    codon=RNA[n:n+3]\n",
    "    if GeneticCode[codon]!='':\n",
    "        prot+=GeneticCode[codon]\n",
    "    n+=3    \n",
    "\n",
    "fa=open('output.txt','w')\n",
    "fa.write(prot)\n",
    "fa.close()\n",
    "\n",
    "''' USING BIOPYTHON '''\n",
    "\n",
    "import Bio\n",
    "\n",
    "from Bio.Seq import Seq\n",
    "RNA=Seq(RNA)\n",
    "print RNA.translate(to_stop=True)\n",
    "\n"
   ]
  },
  {
   "cell_type": "code",
   "execution_count": 132,
   "metadata": {
    "collapsed": false
   },
   "outputs": [
    {
     "name": "stdout",
     "output_type": "stream",
     "text": [
      "{'ACC': 'T', 'GCA': 'A', 'AAG': 'K', 'AAA': 'K', 'GUU': 'V', 'AAC': 'N', 'AGG': 'R', 'UGG': 'W', 'GUC': 'V', 'AGC': 'S', 'ACA': 'T', 'AGA': 'R', 'AAU': 'N', 'ACU': 'T', 'GUG': 'V', 'CAC': 'H', 'ACG': 'T', 'AGU': 'S', 'CCA': 'P', 'CAA': 'Q', 'CCC': 'P', 'UGU': 'C', 'GGU': 'G', 'UCU': 'S', 'GCG': 'A', 'CGA': 'R', 'CAG': 'Q', 'CGC': 'R', 'UAU': 'Y', 'CGG': 'R', 'UCG': 'S', 'CCU': 'P', 'GGG': 'G', 'GGA': 'G', 'GGC': 'G', 'CCG': 'P', 'UCC': 'S', 'UAC': 'Y', 'CGU': 'R', 'GAA': 'E', 'AUA': 'I', 'AUC': 'I', 'CUU': 'L', 'UCA': 'S', 'AUG': 'M', 'UGA': '', 'CUG': 'L', 'GAG': 'E', 'AUU': 'I', 'CAU': 'H', 'CUA': 'L', 'UAA': '', 'GCC': 'A', 'UUU': 'F', 'GAC': 'D', 'GUA': 'V', 'UGC': 'C', 'GCU': 'A', 'UAG': '', 'CUC': 'L', 'UUG': 'L', 'UUA': 'L', 'GAU': 'D', 'UUC': 'F'}\n",
      "144\n"
     ]
    }
   ],
   "source": [
    "'''EXERCISE BREAK: How many DNA strings of length 30 transcribe and translate into Tyrocidine B1?'''\n",
    "\n",
    "from collections import defaultdict\n",
    "print GeneticCode\n",
    "aano={}\n",
    "\n",
    "for v in GeneticCode.values():\n",
    "    aano[v]=[codon for codon,value in GeneticCode.items() if value==v]\n",
    "    \n",
    "combi=1\n",
    "seq='MASS'\n",
    "for n in seq:\n",
    "    combi*=len(aano[n])\n",
    "    \n",
    "print combi    "
   ]
  },
  {
   "cell_type": "code",
   "execution_count": null,
   "metadata": {
    "collapsed": true
   },
   "outputs": [],
   "source": [
    "''' We say that a DNA string Pattern encodes an amino acid string Peptide if the RNA string transcribed from either Pattern or its reverse complement Pattern translates into Peptide. For example, the DNA string GAAACT is transcribed into GAAACU and translated into ET. The reverse complement of this DNA string, AGTTTC, is transcribed into AGUUUC and translated into SF. Thus, GAAACT encodes both ET and SF.”\n",
    "\n",
    "Peptide Encoding Problem: Find substrings of a genome encoding a given amino acid sequence.\n",
    "     Input: A DNA string Text, an amino acid string Peptide, and the array GeneticCode.\n",
    "     Output: All substrings of Text encoding Peptide (if any such substrings exist).'''\n",
    "from Bio.Seq import transcribe\n",
    "\n",
    "''' RAW '''\n",
    "DNA=Seq('ATGGCCATGGCCCCCAGAACTGAGATCAATAGTACCCGTATTAACGGGTGA')\n",
    "peptide='MA'\n",
    "codonsize=len(peptide)*3\n",
    "\n",
    "RNA=DNA.transcribe()\n",
    "rc_RNA=DNA.reverse_complement().transcribe()\n",
    "\n",
    "print RNA, rc_RNA\n",
    "#Find all possible reverse-transl of peptide\n",
    "aminos=[]\n",
    "for aa in peptide:\n",
    "    aminos.append([codon for codon,value in GeneticCode.items() if value==aa])\n",
    "print aminos\n",
    "\n",
    "liste_of_codons=[]\n",
    "\n",
    "i=0\n",
    "for i in range(len(RNA)):\n",
    "    possible_peptide= RNA[i:i+codonsize]\n",
    "    if str(possible_peptide.translate(to_stop=True))==peptide:\n",
    "        liste_of_codons.append(str(RNA[i:i+codonsize]))\n",
    "    i+=1\n",
    "    \n",
    "i=0\n",
    "for i in range(len(rc_RNA)):\n",
    "    possible_peptide= rc_RNA[i:i+codonsize]\n",
    "    if str(possible_peptide.translate(to_stop=True))==peptide:\n",
    "        liste_of_codons.append(str(RNA[i:i+codonsize]))\n",
    "    i+=1\n",
    "        \n",
    "print liste_of_codons\n",
    "\n",
    "''' CHALLENGE '''\n",
    "\n",
    "from Bio.Seq import Seq\n",
    "\n",
    "f=open('../../Downloads/rosalind_ba4b.txt','r')\n",
    "lines=f.read().splitlines()\n",
    "f.close()\n",
    "\n",
    "DNA=Seq(lines[0])\n",
    "peptide=lines[1]\n",
    "codonsize=len(peptide)*3\n",
    "\n",
    "#DNA=Seq('ATGGCCATGGCCCCCAGAACTGAGATCAATAGTACCCGTATTAACGGGTGA')\n",
    "#peptide='MA'\n",
    "#codonsize=len(peptide)*3\n",
    "\n",
    "RNA=DNA.transcribe()\n",
    "rc_RNA=DNA.reverse_complement().transcribe()\n",
    "\n",
    "liste_of_codons=[]\n",
    "\n",
    "i=0\n",
    "for i in range(len(RNA)-codonsize+1):\n",
    "    possible_peptide= RNA[i:i+codonsize]\n",
    "    if str(possible_peptide.translate(to_stop=True))==peptide:\n",
    "        liste_of_codons.append(str(RNA[i:i+codonsize].back_transcribe()))\n",
    "    i+=1\n",
    "#print liste_of_codons \n",
    "\n",
    "i=0\n",
    "for i in range(len(rc_RNA)-codonsize+1):\n",
    "    possible_peptide= rc_RNA[i:i+codonsize]\n",
    "    if str(possible_peptide.translate(to_stop=True))==peptide:\n",
    "        liste_of_codons.append(str(rc_RNA[i:i+codonsize].back_transcribe().reverse_complement()))\n",
    "    i+=1\n",
    "\n",
    "#print liste_of_codons     \n",
    "fa=open('output.txt','w')\n",
    "fa.write('\\n'.join(liste_of_codons))\n",
    "fa.close()"
   ]
  },
  {
   "cell_type": "code",
   "execution_count": 40,
   "metadata": {
    "collapsed": false
   },
   "outputs": [
    {
     "name": "stdout",
     "output_type": "stream",
     "text": [
      "12\n"
     ]
    }
   ],
   "source": [
    "'''EXERCISE BREAK: How many subpeptides does a cyclic peptide of length n have?'''\n",
    "n=4\n",
    "print n**2-n"
   ]
  },
  {
   "cell_type": "code",
   "execution_count": 1,
   "metadata": {
    "collapsed": false
   },
   "outputs": [
    {
     "name": "stdout",
     "output_type": "stream",
     "text": [
      "0 57 71 97 114 147 154 185 244 261 301 332 358 415 429 486\n"
     ]
    }
   ],
   "source": [
    "'''LinearSpectrum(Peptide, AminoAcid, AminoAcidMass)\n",
    "    PrefixMass(0) ← 0\n",
    "    for i ← 1 to |Peptide|\n",
    "        for j ← 1 to 20\n",
    "            if AminoAcid(j) =  i-th amino acid in Peptide\n",
    "                PrefixMass(i) ← PrefixMass(i − 1) + AminoAcidMass(j)\n",
    "    LinearSpectrum ← a list consisting of the single integer 0\n",
    "    for i ← 0 to |Peptide| − 1\n",
    "        for j ← i + 1 to |Peptide|\n",
    "            add PrefixMass(j) − PrefixMass(i) to LinearSpectrum\n",
    "    return sorted list LinearSpectrum'''\n",
    "\n",
    "#Peptide='NQEL'\n",
    "Peptide='GPFNA'\n",
    "AminoAcid='GASPVTCILNDKQEMHFRYW'\n",
    "AminoAcidMass=[57,71,87,97,99,101,103,113,113,114,115,128,128,129,131,137,147,156,163,186]\n",
    "\n",
    "''' FUNCTION '''\n",
    "\n",
    "def LinearSpectrum(Peptide, AminoAcid, AminoAcidMass):\n",
    "    PrefixMass={}\n",
    "    PrefixMass[0]=0\n",
    "    for i in range(len(Peptide)):\n",
    "        for j in range(len(AminoAcid)):\n",
    "            if AminoAcid[j] == Peptide[i]:\n",
    "                PrefixMass[i+1] = PrefixMass[i] + AminoAcidMass[j]\n",
    "    #print PrefixMass\n",
    "\n",
    "    LinearSpectrum=[0]\n",
    "    for i in range(len(Peptide)):\n",
    "        for j in range(i+1,len(Peptide)+1):\n",
    "            LinearSpectrum.append(PrefixMass[j]-PrefixMass[i])\n",
    "    return sorted(LinearSpectrum)\n",
    "\n",
    "print ' '.join(map(str,LinearSpectrum(Peptide, AminoAcid, AminoAcidMass)))"
   ]
  },
  {
   "cell_type": "code",
   "execution_count": 80,
   "metadata": {
    "collapsed": false
   },
   "outputs": [
    {
     "name": "stdout",
     "output_type": "stream",
     "text": [
      "0 113 114 128 129 227 242 242 257 355 356 370 371 484\n"
     ]
    },
    {
     "ename": "NameError",
     "evalue": "name 'good' is not defined",
     "output_type": "error",
     "traceback": [
      "\u001b[0;31m---------------------------------------------------------------------------\u001b[0m",
      "\u001b[0;31mNameError\u001b[0m                                 Traceback (most recent call last)",
      "\u001b[0;32m<ipython-input-80-49b7d1e015e7>\u001b[0m in \u001b[0;36m<module>\u001b[0;34m()\u001b[0m\n\u001b[1;32m     25\u001b[0m \u001b[0mtest\u001b[0m\u001b[0;34m=\u001b[0m\u001b[0;34m' '\u001b[0m\u001b[0;34m.\u001b[0m\u001b[0mjoin\u001b[0m\u001b[0;34m(\u001b[0m\u001b[0mmap\u001b[0m\u001b[0;34m(\u001b[0m\u001b[0mstr\u001b[0m\u001b[0;34m,\u001b[0m\u001b[0mCircularSpectrum\u001b[0m\u001b[0;34m(\u001b[0m\u001b[0mPeptide\u001b[0m\u001b[0;34m,\u001b[0m \u001b[0mAminoAcid\u001b[0m\u001b[0;34m,\u001b[0m \u001b[0mAminoAcidMass\u001b[0m\u001b[0;34m)\u001b[0m\u001b[0;34m)\u001b[0m\u001b[0;34m)\u001b[0m\u001b[0;34m\u001b[0m\u001b[0m\n\u001b[1;32m     26\u001b[0m \u001b[0;32mprint\u001b[0m \u001b[0mtest\u001b[0m\u001b[0;34m\u001b[0m\u001b[0m\n\u001b[0;32m---> 27\u001b[0;31m \u001b[0;32mif\u001b[0m \u001b[0mtest\u001b[0m\u001b[0;34m==\u001b[0m\u001b[0mgood\u001b[0m\u001b[0;34m:\u001b[0m\u001b[0;34m\u001b[0m\u001b[0m\n\u001b[0m\u001b[1;32m     28\u001b[0m     \u001b[0;32mprint\u001b[0m \u001b[0;34m'good'\u001b[0m\u001b[0;34m\u001b[0m\u001b[0m\n",
      "\u001b[0;31mNameError\u001b[0m: name 'good' is not defined"
     ]
    }
   ],
   "source": [
    "''' FUNCTION CYCLE '''\n",
    "\n",
    "\n",
    "Peptide='NQEL'\n",
    "AminoAcid='GASPVTCILNDKQEMHFRYW'\n",
    "AminoAcidMass=[57,71,87,97,99,101,103,113,113,114,115,128,128,129,131,137,147,156,163,186]\n",
    "\n",
    "def CircularSpectrum(Peptide, AminoAcid, AminoAcidMass):\n",
    "    PrefixMass={}\n",
    "    PrefixMass[0]=0\n",
    "    for i in range(1,len(Peptide)+1):\n",
    "        for j in range(20):\n",
    "            if AminoAcid[j] == Peptide[i-1]:\n",
    "                PrefixMass[i] = PrefixMass[i-1] + AminoAcidMass[j]\n",
    "    peptideMass = PrefixMass[len(Peptide)]\n",
    "\n",
    "    CircularSpectrum=[0]\n",
    "    for i in range(len(Peptide)):\n",
    "        for j in range(i+1,len(Peptide)+1):\n",
    "            CircularSpectrum.append(PrefixMass[j]-PrefixMass[i])\n",
    "            if i > 0 and j < len(PrefixMass)-1:\n",
    "                CircularSpectrum.append(peptideMass -(PrefixMass[j]-PrefixMass[i]))\n",
    "    return sorted(CircularSpectrum)\n",
    "\n",
    "test=' '.join(map(str,CircularSpectrum(Peptide, AminoAcid, AminoAcidMass)))\n",
    "print test\n",
    "if test==good:\n",
    "    print 'good'\n"
   ]
  },
  {
   "cell_type": "code",
   "execution_count": 140,
   "metadata": {
    "collapsed": false
   },
   "outputs": [
    {
     "data": {
      "text/plain": [
       "Seq('PRTEIN', ExtendedIUPACProtein())"
      ]
     },
     "execution_count": 140,
     "metadata": {},
     "output_type": "execute_result"
    }
   ],
   "source": [
    "seq=Seq('CCUCGUACAGAAAUCAAC')\n",
    "seq.translate()"
   ]
  },
  {
   "cell_type": "code",
   "execution_count": 76,
   "metadata": {
    "collapsed": false
   },
   "outputs": [
    {
     "name": "stdout",
     "output_type": "stream",
     "text": [
      "1706944\n",
      "854779\n"
     ]
    }
   ],
   "source": [
    "'''EXERCISE BREAK: How many subpeptides does a linear peptide of given length n have? (Include the empty peptide and the entire peptide.)\n",
    "     Input: An integer n.\n",
    "     Output: The number of subpeptides of a linear peptide of length n.'''\n",
    "\n",
    "n=1307\n",
    "print n*(n-1)+2 # circular\n",
    "print (n*(n+1)/2)+1 # linear"
   ]
  },
  {
   "cell_type": "code",
   "execution_count": 39,
   "metadata": {
    "collapsed": false
   },
   "outputs": [],
   "source": [
    "'''  CYCLOPEPTIDESEQUENCING(Spectrum)\n",
    "        Peptides ← a set containing only the empty peptide\n",
    "        while Peptides is nonempty\n",
    "            Peptides ← Expand(Peptides)\n",
    "            for each peptide Peptide in Peptides\n",
    "                if Mass(Peptide) = ParentMass(Spectrum)\n",
    "                    if Cyclospectrum(Peptide) = Spectrum\n",
    "                        output Peptide\n",
    "                    remove Peptide from Peptides\n",
    "                else if Peptide is not consistent with Spectrum\n",
    "                    remove Peptide from Peptides'''\n",
    "''' RAW '''\n",
    "\n",
    "AminoAcidNames=[57,71,87,97,99,101,103,113,114,115,128,129,131,137,147,156,163,186]\n",
    "AminoAcidMass=[57,71,87,97,99,101,103,113,114,115,128,129,131,137,147,156,163,186]\n",
    "#Spectrum=[0,113,128,186,241,299,314,427]\n",
    "\n",
    "\n",
    "f=open('input.txt','r')\n",
    "lines=f.read().splitlines()\n",
    "f.close()\n",
    "Spectrum=lines[0].split(' ')\n",
    "\n",
    "\n",
    "def Expand(Peptides,AminoAcidNames):\n",
    "    NewPeptides=[]\n",
    "    for n in range(len(Peptides)):\n",
    "        peptide=Peptides[n]\n",
    "        #print n,peptide, peptide[-1]\n",
    "        for aa in AminoAcidNames:\n",
    "            #print peptide\n",
    "            newpeptide=peptide[:]\n",
    "            newpeptide.append(aa)\n",
    "            #print newpeptide\n",
    "            NewPeptides.append(newpeptide)\n",
    "    return NewPeptides\n",
    "        \n",
    "def LinearSpectrum(Peptide, AminoAcid, AminoAcidMass):\n",
    "    PrefixMass={}\n",
    "    PrefixMass[0]=0\n",
    "    for i in range(1,len(Peptide)):\n",
    "        for j in range(len(AminoAcid)):\n",
    "            if AminoAcid[j] == Peptide[i]:\n",
    "                #print i, j,PrefixMass[i-1],AminoAcidMass[j]\n",
    "                PrefixMass[i] = PrefixMass[i-1] + AminoAcidMass[j]\n",
    "                #print PrefixMass[i]\n",
    "    LinearSpectrum=[0]\n",
    "    for i in range(len(Peptide)-1):\n",
    "        for j in range(i+1,len(Peptide)):\n",
    "            LinearSpectrum.append(PrefixMass[j]-PrefixMass[i])\n",
    "    return sorted(LinearSpectrum)\n",
    "\n",
    "def CircularSpectrum(Peptide, AminoAcid, AminoAcidMass):\n",
    "    from collections import defaultdict\n",
    "    PrefixMass={}\n",
    "    PrefixMass[0]=0\n",
    "    for i in range(1,len(Peptide)):\n",
    "        for j in range(len(AminoAcid)):\n",
    "            if AminoAcid[j] == Peptide[i]:\n",
    "                #print i, j,PrefixMass[i-1],AminoAcidMass[j]\n",
    "                PrefixMass[i] = PrefixMass[i-1] + AminoAcidMass[j]\n",
    "    #print len(Peptide), PrefixMass\n",
    "    peptideMass = PrefixMass[len(Peptide)-1]\n",
    "\n",
    "    CircularSpectrum=[0]\n",
    "    for i in range(len(Peptide)-1):\n",
    "        for j in range(i+1,len(Peptide)):\n",
    "            CircularSpectrum.append(PrefixMass[j]-PrefixMass[i])\n",
    "            if i > 0 and j < len(PrefixMass)-1:\n",
    "                CircularSpectrum.append(peptideMass -(PrefixMass[j]-PrefixMass[i]))\n",
    "    return sorted(CircularSpectrum)\n",
    "\n",
    "\n",
    "#Spectrum is a cyclospectrum\n",
    "Peptides = [[0]]\n",
    "#print Peptides[0]\n",
    "i=0\n",
    "while len(Peptides) >0:\n",
    "    i+=1\n",
    "    Peptides=Expand(Peptides,AminoAcidNames)\n",
    "    #print [item[-1] for item in Peptides]\n",
    "    for peptide in Peptides[:]:\n",
    "        #print 'peptide: '+str(peptide[-1])\n",
    "        if sum(peptide) == Spectrum[-1]:\n",
    "            if CircularSpectrum(peptide, AminoAcidNames, AminoAcidMass) == Spectrum:\n",
    "                print 'answer:'+str(peptide[1:])\n",
    "            #print 'removing peptide :'+str(peptide)    \n",
    "            Peptides.remove(peptide)\n",
    "        #print peptide, Peptides\n",
    "        elif set(LinearSpectrum(peptide, AminoAcidNames, AminoAcidMass)).issubset(Spectrum) == False:\n",
    "            Peptides.remove(peptide)\n",
    "            if i==0:\n",
    "                #print peptide\n",
    "                #print Peptides\n",
    "                AminoAcidNames.remove(peptide[-1])\n",
    "                AminoAcidMass.remove(peptide[-1])"
   ]
  },
  {
   "cell_type": "code",
   "execution_count": 77,
   "metadata": {
    "collapsed": false
   },
   "outputs": [],
   "source": [
    "\n",
    "''' FUNCTION '''\n",
    "\n",
    "def Expand(Peptides,AminoAcidNames):\n",
    "    '''\n",
    "    Expand each peptides by adding one aa\n",
    "    '''\n",
    "    NewPeptides=[]\n",
    "    for n in range(len(Peptides)):\n",
    "        peptide=Peptides[n]\n",
    "        #print n,peptide, peptide[-1]\n",
    "        for aa in AminoAcidNames:\n",
    "            #print peptide\n",
    "            newpeptide=peptide[:]\n",
    "            newpeptide.append(aa)\n",
    "            #print newpeptide\n",
    "            NewPeptides.append(newpeptide)\n",
    "    return NewPeptides\n",
    "        \n",
    "def LinearSpectrum(Peptide, AminoAcid, AminoAcidMass):\n",
    "    ''' Generate linear spectrum of peptide'''\n",
    "    PrefixMass={}\n",
    "    PrefixMass[0]=0\n",
    "    for i in range(1,len(Peptide)):\n",
    "        for j in range(len(AminoAcid)):\n",
    "            if AminoAcid[j] == Peptide[i]:\n",
    "                #print i, j,PrefixMass[i-1],AminoAcidMass[j]\n",
    "                PrefixMass[i] = PrefixMass[i-1] + AminoAcidMass[j]\n",
    "                #print PrefixMass[i]\n",
    "    LinearSpectrum=[0]\n",
    "    for i in range(len(Peptide)-1):\n",
    "        for j in range(i+1,len(Peptide)):\n",
    "            LinearSpectrum.append(PrefixMass[j]-PrefixMass[i])\n",
    "    return sorted(LinearSpectrum)\n",
    "\n",
    "def CircularSpectrum(Peptide, AminoAcid, AminoAcidMass):\n",
    "    ''' generate circulat spectrum of peptide '''\n",
    "    from collections import defaultdict\n",
    "    PrefixMass={}\n",
    "    PrefixMass[0]=0\n",
    "    for i in range(1,len(Peptide)):\n",
    "        for j in range(len(AminoAcid)):\n",
    "            if AminoAcid[j] == Peptide[i]:\n",
    "                #print i, j,PrefixMass[i-1],AminoAcidMass[j]\n",
    "                PrefixMass[i] = PrefixMass[i-1] + AminoAcidMass[j]\n",
    "    #print len(Peptide), PrefixMass\n",
    "    peptideMass = PrefixMass[len(Peptide)-1]\n",
    "\n",
    "    CircularSpectrum=[0]\n",
    "    for i in range(len(Peptide)-1):\n",
    "        for j in range(i+1,len(Peptide)):\n",
    "            CircularSpectrum.append(PrefixMass[j]-PrefixMass[i])\n",
    "            if i > 0 and j < len(PrefixMass)-1:\n",
    "                CircularSpectrum.append(peptideMass -(PrefixMass[j]-PrefixMass[i]))\n",
    "    return sorted(CircularSpectrum)\n",
    "\n",
    "def CYCLOPEPTIDESEQUENCING(Spectrum,AminoAcidNames,AminoAcidMass):\n",
    "    ''' generate list of possible peptides based on spectrum'''\n",
    "    from Bioinf_functions import CircularSpectrum,LinearSpectrum,Expand\n",
    "    #Spectrum is a cyclospectrum\n",
    "    answer=[]\n",
    "    Peptides = [[0]]\n",
    "    #print Peptides[0]\n",
    "    i=0\n",
    "    while len(Peptides) >0:\n",
    "        i+=1\n",
    "        Peptides=Expand(Peptides,AminoAcidNames)\n",
    "        #print [item[-1] for item in Peptides]\n",
    "        for peptide in Peptides[:]:\n",
    "            #print 'peptide: '+str(peptide[-1])\n",
    "            if sum(peptide) == Spectrum[-1]:\n",
    "                if CircularSpectrum(peptide, AminoAcidNames, AminoAcidMass) == Spectrum:\n",
    "                    answer.append(peptide[1:])\n",
    "                    #print str(peptide[1:]) \n",
    "                #print 'removing peptide :'+str(peptide)    \n",
    "                Peptides.remove(peptide)\n",
    "            #print peptide, Peptides\n",
    "            elif set(LinearSpectrum(peptide, AminoAcidNames, AminoAcidMass)).issubset(Spectrum) == False:\n",
    "                Peptides.remove(peptide)\n",
    "                if i==0:\n",
    "                    #print peptide\n",
    "                    #print Peptides\n",
    "                    AminoAcidNames.remove(peptide[-1])\n",
    "                    AminoAcidMass.remove(peptide[-1])\n",
    "    return answer\n",
    "\n",
    "f=open('../../Downloads/rosalind_ba4e.txt','r')\n",
    "lines=f.read().splitlines()\n",
    "f.close()\n",
    "\n",
    "AminoAcidNames=[57,71,87,97,99,101,103,113,114,115,128,129,131,137,147,156,163,186]\n",
    "AminoAcidMass=[57,71,87,97,99,101,103,113,114,115,128,129,131,137,147,156,163,186]\n",
    "\n",
    "Spectrum=map(int,lines[0].split(' '))\n",
    "\n",
    "#print Spectrum\n",
    "fa=open('output.txt','w')\n",
    "entry=' '.join(['-'.join(map(str,answer)) for answer in CYCLOPEPTIDESEQUENCING(Spectrum,AminoAcidNames,AminoAcidMass)])\n",
    "fa.write(entry)\n",
    "fa.close()\n"
   ]
  },
  {
   "cell_type": "code",
   "execution_count": 62,
   "metadata": {
    "collapsed": false
   },
   "outputs": [
    {
     "name": "stdout",
     "output_type": "stream",
     "text": [
      "[137, 103, 97, 99, 115, 113, 113, 114, 131, 71]\n"
     ]
    }
   ],
   "source": []
  },
  {
   "cell_type": "code",
   "execution_count": null,
   "metadata": {
    "collapsed": true
   },
   "outputs": [],
   "source": []
  }
 ],
 "metadata": {
  "kernelspec": {
   "display_name": "Python 2",
   "language": "python",
   "name": "python2"
  },
  "language_info": {
   "codemirror_mode": {
    "name": "ipython",
    "version": 2
   },
   "file_extension": ".py",
   "mimetype": "text/x-python",
   "name": "python",
   "nbconvert_exporter": "python",
   "pygments_lexer": "ipython2",
   "version": "2.7.10"
  }
 },
 "nbformat": 4,
 "nbformat_minor": 0
}
