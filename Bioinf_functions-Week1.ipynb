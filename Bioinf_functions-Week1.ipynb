{
 "cells": [
  {
   "cell_type": "code",
   "execution_count": 1,
   "metadata": {
    "collapsed": false
   },
   "outputs": [
    {
     "name": "stdout",
     "output_type": "stream",
     "text": [
      "5\n"
     ]
    }
   ],
   "source": [
    "'''PatternCount(Text, Pattern)\n",
    "\n",
    "Count the frequency on a pattern(word) in a text(sequence)'''\n",
    "def PatternCount(Text, Pattern):\n",
    "    count=0\n",
    "    for n in range(0,(len(Text)-len(Pattern)+1)):\n",
    "                if Text[n:n+len(Pattern)]== Pattern:\n",
    "                    count += 1\n",
    "    print(count)                \n",
    "    return              \n",
    "#PatternCount('AACTGGTCACACATC','AC')\n",
    "PatternCount('CGCGATACGTTACATACATGATAGACCGCGCGCGATCATATCGCGATTATC', 'CGCG')"
   ]
  },
  {
   "cell_type": "code",
   "execution_count": 3,
   "metadata": {
    "collapsed": false
   },
   "outputs": [
    {
     "name": "stdout",
     "output_type": "stream",
     "text": [
      "The script took 0.000492095947266 s\n"
     ]
    },
    {
     "data": {
      "text/plain": [
       "['GTG']"
      ]
     },
     "execution_count": 3,
     "metadata": {},
     "output_type": "execute_result"
    }
   ],
   "source": [
    "'''FrequentWords(Text, k)\n",
    "\n",
    "Find all most frquent words of size k in a sequence'''\n",
    "import time\n",
    "start_time = time.time()\n",
    "\n",
    "def FrequentWords(Text, k):\n",
    "    FrequentPattern=list()\n",
    "    d={}\n",
    "    for n in range(0,(len(Text)-(k-1))):\n",
    "        word=Text[n:n+k]\n",
    "        if word in d:\n",
    "            d[word] += 1\n",
    "        else:\n",
    "            d[word] = 1     \n",
    "    maxCount= max(d.values())\n",
    "\n",
    "    max_keys = [k for k in d if d[k] == maxCount]  \n",
    "    return(max_keys)     \n",
    "          \n",
    "FrequentWords('ACGTTGCATGTCGCATGATGCATGAGAGCT', 4) \n",
    "print ('The script took '+str(time.time()-start_time)+' s')\n",
    "FrequentWords('TAAACGTGAGAGAAACGTGCTGATTACACTTGTTCGTGTGGTAT', 3) "
   ]
  },
  {
   "cell_type": "code",
   "execution_count": 52,
   "metadata": {
    "collapsed": false
   },
   "outputs": [
    {
     "name": "stdout",
     "output_type": "stream",
     "text": [
      "The script took 0.00152897834778 s\n"
     ]
    }
   ],
   "source": [
    "'''FindingFrequentWordsBySorting(Text , k)'''\n",
    "\n",
    "import time\n",
    "start_time = time.time()\n",
    "#------------------------------------------------\n",
    "def PatternToNumber(Pattern):\n",
    "    d={'A':0,'C':1,'G':2,'T':3}\n",
    "    if Pattern == '':\n",
    "        return 0\n",
    "    symbol = Pattern[-1]\n",
    "    Pattern= Pattern[:-1]\n",
    "    return(4 * PatternToNumber(Pattern) + d[symbol])\n",
    "#--\n",
    "\n",
    "def NumberToPattern(Number, k):\n",
    "    d={'A':0,'C':1,'G':2,'T':3}\n",
    "    pattern=[]\n",
    "    if k==1:\n",
    "        #return d.keys()[d.values().index(Number)]\n",
    "        return (list(d.keys())[list(d.values()).index(int(Number))])\n",
    "    prefixIndex = Number//4\n",
    "    r = Number%4\n",
    "    PrefixPattern = NumberToPattern(prefixIndex, (k-1))\n",
    "    symbol = (list(d.keys())[list(d.values()).index(r)])\n",
    "    return (PrefixPattern+symbol)\n",
    "#--\n",
    "\n",
    "def FindingFrequentWordsBySorting(Text , k):\n",
    "    FrequentPatterns = list()\n",
    "    Index={}\n",
    "    Count={}\n",
    "    for n in range(len(Text)-(k-1)):\n",
    "        Pattern = Text[n:n+k]\n",
    "        Index[n] = int(PatternToNumber(Pattern))\n",
    "        Count[n] = 1\n",
    "    SortedIndex = sorted(Index.values())\n",
    "    for i in range(1,len(Text)-(k-1)):\n",
    "        if SortedIndex[i] == SortedIndex[i-1]:\n",
    "            Count[i] = (Count[i-1]) + 1\n",
    "    maxCount= max(Count.values())\n",
    "    for i in range(0,len(Text)-(k-1)):\n",
    "        if Count[i] == maxCount:\n",
    "            Pattern = NumberToPattern(SortedIndex[(i)], k)\n",
    "            FrequentPatterns.append(Pattern)\n",
    "    return FrequentPatterns\n",
    "\n",
    "FindingFrequentWordsBySorting('ACGTTGCATGTCGCATGATGCATGAGAGCT', 4)  \n",
    "print ('The script took '+str(time.time()-start_time)+' s')\n",
    "#this script was slower, but might become faster when dealing with long sequences"
   ]
  },
  {
   "cell_type": "code",
   "execution_count": 6,
   "metadata": {
    "collapsed": false
   },
   "outputs": [
    {
     "data": {
      "text/plain": [
       "'GACACAA'"
      ]
     },
     "execution_count": 6,
     "metadata": {},
     "output_type": "execute_result"
    }
   ],
   "source": [
    "'''ReverseComplement(sequence)\n",
    "Find the reverse complement of a sequence'''\n",
    "\n",
    "def ReverseComplement(sequence):\n",
    "    complement = {'A': 'T', 'C': 'G', 'G': 'C', 'T': 'A'}\n",
    "    reverse_complement = \"\".join(complement.get(base, base) for base in reversed(sequence))\n",
    "    return(reverse_complement);\n",
    "\n",
    "\n",
    "#ReverseComplement('ACGTTGCA')\n",
    "ReverseComplement('TTGTGTC')\n"
   ]
  },
  {
   "cell_type": "code",
   "execution_count": 49,
   "metadata": {
    "collapsed": false
   },
   "outputs": [
    {
     "name": "stdout",
     "output_type": "stream",
     "text": [
      "1 3 9\n"
     ]
    }
   ],
   "source": [
    "'''PatternMatch(Text,Pattern)\n",
    "Finds all the positions of a pattern in a text'''\n",
    "\n",
    "def PatternMatch(Text,Pattern):\n",
    "    output=list()\n",
    "    for n in range(0,(len(Text)-(len(Pattern)-1))):\n",
    "        word=Text[n:n+len(Pattern)]\n",
    "        if word == Pattern:\n",
    "            output.append(n)\n",
    "\n",
    "    print(' '.join(map(str,output)))\n",
    "    return;\n",
    "\n",
    "PatternMatch('GATATATGCATATACTT','ATAT')"
   ]
  },
  {
   "cell_type": "code",
   "execution_count": 50,
   "metadata": {
    "collapsed": false
   },
   "outputs": [
    {
     "name": "stdout",
     "output_type": "stream",
     "text": [
      "CGACA GAAGA\n"
     ]
    }
   ],
   "source": [
    "'''ClumpFind(Text,k,L,t)\n",
    "Finds clump of at least t patterns of length k(kmers) within a window of length L from a Text(sequence)'''\n",
    "\n",
    "def ClumpFind(Text,k,L,t):\n",
    "    from collections import defaultdict\n",
    "    kmer_dic = defaultdict(list)\n",
    "    suc_keys = []    \n",
    "    for n in range(len(Text)-(k-1)):\n",
    "        kmer_dic[Text[n:n+k]].append(n)\n",
    "\n",
    "    for key in kmer_dic.keys():\n",
    "        if len(kmer_dic[key])>=t:\n",
    "            index_bank = []\n",
    "            for index in kmer_dic[key]:\n",
    "                index_bank.append(index)\n",
    "\n",
    "            for list_index in range(0,len(index_bank)-(t-1)):\n",
    "                if index_bank[list_index+t-1]+k-index_bank[list_index]<=L:\n",
    "                    suc_keys.append(key) \n",
    "                    break\n",
    "                else:\n",
    "                    continue        \n",
    "        else:\n",
    "            continue\n",
    "\n",
    "\n",
    "    print (' '.join(map(str,suc_keys)))\n",
    "    return;\n",
    "\n",
    "ClumpFind('CGGACTCGACAGATGTGAAGAACGACAATGTGAAGACTCGACACGACAGAGTGAAGAGAAGAGGAAACATTGTAA',5,50,4)"
   ]
  },
  {
   "cell_type": "code",
   "execution_count": 1,
   "metadata": {
    "collapsed": false
   },
   "outputs": [
    {
     "data": {
      "text/plain": [
       "13"
      ]
     },
     "execution_count": 1,
     "metadata": {},
     "output_type": "execute_result"
    }
   ],
   "source": [
    "'''PatternToNumber(Pattern)\n",
    "Transform a pattern of DNA letters into an index number;\n",
    "Convert k-mers into the 4^k different integers between 0 and 4^k − 1'''\n",
    "\n",
    "#V1\n",
    "def PatternToNumber(Pattern):\n",
    "    d={'A':0,'C':1,'G':2,'T':3}\n",
    "    number=0\n",
    "    for i in range(0,len(Pattern)):\n",
    "        number += d[Pattern[i]]*(4**(len(Pattern)-1-i))\n",
    "    return(number);\n",
    "#--------------------------------------\n",
    "# V2\n",
    "def PatternToNumber(Pattern):\n",
    "    d={'A':0,'C':1,'G':2,'T':3}\n",
    "    if Pattern == '':\n",
    "        return 0\n",
    "    symbol = Pattern[-1]\n",
    "    Pattern= Pattern[:-1]\n",
    "    return(4 * PatternToNumber(Pattern) + d[symbol])\n",
    "\n",
    "#---\n",
    "PatternToNumber('ATC')\n"
   ]
  },
  {
   "cell_type": "code",
   "execution_count": 6,
   "metadata": {
    "collapsed": false
   },
   "outputs": [
    {
     "name": "stdout",
     "output_type": "stream",
     "text": [
      "ACCCATTC\n",
      "ACCCATTC\n"
     ]
    }
   ],
   "source": [
    "''' NumberToPattern(Number, k)'''\n",
    "#V1\n",
    "def NumberToPattern(Number, k):\n",
    "    d={'A':0,'C':1,'G':2,'T':3,0:'A',1:'C',2:'G',3:'T'}\n",
    "    number=Number\n",
    "    i=0\n",
    "    pattern=[]\n",
    "\n",
    "    while i<k:\n",
    "        pattern.append(number%4)\n",
    "        number=number/4\n",
    "        i += 1\n",
    "    return(\"\".join(d.get(base, base) for base in reversed(pattern)));\n",
    "\n",
    "print(NumberToPattern(5437, 8))\n",
    "#------------------------------------\n",
    "#V2\n",
    "def NumberToPattern(Number, k):\n",
    "    d={'A':0,'C':1,'G':2,'T':3}\n",
    "    pattern=[]\n",
    "    if k==1:\n",
    "        #return d.keys()[d.values().index(Number)]\n",
    "        return (list(d.keys())[list(d.values()).index(int(Number))])\n",
    "    prefixIndex = Number//4\n",
    "    r = Number%4\n",
    "    PrefixPattern = NumberToPattern(prefixIndex, (k-1))\n",
    "    symbol = (list(d.keys())[list(d.values()).index(r)])\n",
    "    return (PrefixPattern+symbol)\n",
    "\n",
    "print(NumberToPattern(5437, 8))"
   ]
  },
  {
   "cell_type": "code",
   "execution_count": 17,
   "metadata": {
    "collapsed": false
   },
   "outputs": [
    {
     "name": "stdout",
     "output_type": "stream",
     "text": [
      "0 1 0 3 0 0 0 0 0 0 0 0 3 0 0 0\n"
     ]
    }
   ],
   "source": [
    "'''FrequencyArray(Text , k)'''\n",
    "def PatternToNumber(Pattern):\n",
    "    d={'A':0,'C':1,'G':2,'T':3}\n",
    "    number=0\n",
    "    for i in range(0,len(Pattern)):\n",
    "        number = number + d[Pattern[i]]*(4**(len(Pattern)-1-i))   \n",
    "    return(number);\n",
    "#---------------------------\n",
    "def FrequencyArray(Text,k):\n",
    "    FrequencyArray={}\n",
    "    for i in range(4**k):\n",
    "        FrequencyArray[i]= 0   \n",
    "    for n in range(0,len(Text)-(k-1)):\n",
    "        Pattern = Text[n:n+k]\n",
    "        j=PatternToNumber(Pattern)\n",
    "        FrequencyArray[j] += 1\n",
    "    return(FrequencyArray.values());\n",
    "\n",
    "print(' '.join(map(str,(FrequencyArray('ATATATAC',2)))))"
   ]
  },
  {
   "cell_type": "code",
   "execution_count": null,
   "metadata": {
    "collapsed": true
   },
   "outputs": [],
   "source": []
  }
 ],
 "metadata": {
  "kernelspec": {
   "display_name": "Python 2",
   "language": "python",
   "name": "python2"
  },
  "language_info": {
   "codemirror_mode": {
    "name": "ipython",
    "version": 2
   },
   "file_extension": ".py",
   "mimetype": "text/x-python",
   "name": "python",
   "nbconvert_exporter": "python",
   "pygments_lexer": "ipython2",
   "version": "2.7.9"
  }
 },
 "nbformat": 4,
 "nbformat_minor": 0
}
