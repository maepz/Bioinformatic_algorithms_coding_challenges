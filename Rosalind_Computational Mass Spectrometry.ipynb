{
 "cells": [
  {
   "cell_type": "code",
   "execution_count": 19,
   "metadata": {
    "collapsed": false
   },
   "outputs": [
    {
     "name": "stdout",
     "output_type": "stream",
     "text": [
      "111828.91293\n"
     ]
    }
   ],
   "source": [
    "''' Calculating Protein Mass'''\n",
    "\n",
    "Mass={'A': 71.03711, 'C': 103.00919, 'E': 129.04259, 'D': 115.02694, 'G': 57.02146, 'F': 147.06841, 'I': 113.08406, 'H': 137.05891, 'K': 128.09496, 'M': 131.04049, 'L': 113.08406, 'N': 114.04293, 'Q': 128.05858, 'P': 97.05276, 'S': 87.03203, 'R': 156.10111, 'T': 101.04768, 'W': 186.07931, 'V': 99.06841, 'Y': 163.06333}\n",
    "CodonT={'ACC': 'T', 'GUC': 'V', 'ACA': 'T', 'ACG': 'T', 'GUU': 'V', 'AAC': 'N', 'CCU': 'P', 'UAU': 'Y', 'AGC': 'S', 'AUC': 'I', 'CAU': 'H', 'AAU': 'N', 'AGU': 'S', 'ACU': 'T', 'GUG': 'V', 'CAC': 'H', 'AAA': 'K', 'CCG': 'P', 'CCA': 'P', 'CAA': 'Q', 'CCC': 'P', 'GGU': 'G', 'UCU': 'S', 'GCG': 'A', 'UGC': 'C', 'CAG': 'Q', 'UGA': 'Stop', 'UGG': 'W', 'CGG': 'R', 'UCG': 'S', 'AGG': 'R', 'GGG': 'G', 'UCC': 'S', 'UCA': 'S', 'GAA': 'E', 'UAA': 'Stop', 'GGA': 'G', 'UAC': 'Y', 'CGU': 'R', 'UAG': 'Stop', 'AUA': 'I', 'GCA': 'A', 'CUU': 'L', 'GGC': 'G', 'AUG': 'M', 'CUG': 'L', 'GAG': 'E', 'CUC': 'L', 'AGA': 'R', 'CUA': 'L', 'GCC': 'A', 'AAG': 'K', 'GAU': 'D', 'UUU': 'F', 'GAC': 'D', 'GUA': 'V', 'CGA': 'R', 'GCU': 'A', 'UGU': 'C', 'AUU': 'I', 'UUG': 'L', 'UUA': 'L', 'CGC': 'R', 'UUC': 'F'}\n",
    "\n",
    "#f=open('input.txt','r')\n",
    "#f=open('../../Downloads/dataset_11813_2.txt','r')\n",
    "f=open('../../Downloads/rosalind_prtm.txt','r')\n",
    "lines=f.read().splitlines()\n",
    "f.close()\n",
    "\n",
    "prot=lines[0]\n",
    "mass=0\n",
    "for aa in prot:\n",
    "    mass+=Mass[aa]\n",
    "print mass"
   ]
  },
  {
   "cell_type": "code",
   "execution_count": null,
   "metadata": {
    "collapsed": true
   },
   "outputs": [],
   "source": [
    "''' Inferring Protein from Spectrum '''\n",
    "\n",
    "def DecodingIdealSpectrum(Spectrum):\n",
    "    \n",
    "    '''\n",
    "     Reconstruct a peptide from its ideal spectrum.\n",
    "     INPUT=[57,71,154,185,301,332,415,429,486] # A collection of integers Spectrum.\n",
    "     OUTPUT=GPFNA # An amino acid string Peptide that explains Spectrum.\n",
    "    '''\n",
    "    ###\n",
    "    def find_all_paths(graph, start, end,path=[]):\n",
    "        path = path + [start]\n",
    "        if start == end:\n",
    "            return [path]\n",
    "        if not graph.has_key(start):\n",
    "            return []\n",
    "        paths = []\n",
    "        for node in graph[start]:\n",
    "            if node not in path:\n",
    "                newpaths = find_all_paths(graph, node, end, path)\n",
    "                for newpath in newpaths:\n",
    "                    paths.append(newpath)\n",
    "        return paths\n",
    "    \n",
    "    \n",
    "    def SpellPeptidefomPath(path,graph):\n",
    "        n=1\n",
    "        peptide=''\n",
    "        while n<len(path):\n",
    "            peptide+= [index[2] for index in graph if [index[0],index[1]]==[path[n-1],path[n]]][0]\n",
    "            n+=1\n",
    "        return peptide\n",
    "            \n",
    "    def IdealSpectrum(Peptide):\n",
    "        ''' Generate linear spectrum of peptide'''\n",
    "        prot={'A': 71.03711, 'C': 103.00919, 'E': 129.04259, 'D': 115.02694, 'G': 57.02146, 'F': 147.06841, 'I': 113.08406, 'H': 137.05891, 'K': 128.09496, 'M': 131.04049, 'L': 113.08406, 'N': 114.04293, 'Q': 128.05858, 'P': 97.05276, 'S': 87.03203, 'R': 156.10111, 'T': 101.04768, 'W': 186.07931, 'V': 99.06841, 'Y': 163.06333}\n",
    "        LinearSpectrum=[]\n",
    "        for n in range(len(Peptide)):\n",
    "            prefix= Peptide[:n]\n",
    "            suffix= Peptide[n:]\n",
    "            LinearSpectrum += [sum([prot[k] for k in prefix])]\n",
    "            LinearSpectrum += [sum([prot[k] for k in suffix])]\n",
    "        return sorted(LinearSpectrum)\n",
    "\n",
    "    ###\n",
    "    #construct Graph(Spectrum)\n",
    "    graph=Graph(Spectrum)\n",
    "    dag={}\n",
    "    for item in graph:\n",
    "        if item[0] in dag.keys():\n",
    "            dag[item[0]]+=[item[1]]\n",
    "        else:\n",
    "            dag[item[0]]=[item[1]]\n",
    "    Paths=find_all_paths(dag, Spectrum[0], Spectrum[-1]) #find all path paths from source to sink in Graph(Spectrum)\n",
    "    for path in Paths:\n",
    "        Peptide = SpellPeptidefomPath(path,graph)\n",
    "        ideal= IdealSpectrum(Peptide)\n",
    "        #print ideal, Spectrum\n",
    "        if IdealSpectrum(Peptide) == Spectrum:\n",
    "            return Peptide\n",
    "            break\n",
    "            \n",
    "f=open('../../Downloads/rosalind_prtm.txt','r')\n",
    "lines=f.read().splitlines()\n",
    "f.close()\n",
    "Spectrum=map(float,lines)\n",
    "print DecodingIdealSpectrum(Spectrum)"
   ]
  },
  {
   "cell_type": "code",
   "execution_count": null,
   "metadata": {
    "collapsed": true
   },
   "outputs": [],
   "source": []
  }
 ],
 "metadata": {
  "kernelspec": {
   "display_name": "Python 2",
   "language": "python",
   "name": "python2"
  },
  "language_info": {
   "codemirror_mode": {
    "name": "ipython",
    "version": 2
   },
   "file_extension": ".py",
   "mimetype": "text/x-python",
   "name": "python",
   "nbconvert_exporter": "python",
   "pygments_lexer": "ipython2",
   "version": "2.7.9"
  }
 },
 "nbformat": 4,
 "nbformat_minor": 0
}
